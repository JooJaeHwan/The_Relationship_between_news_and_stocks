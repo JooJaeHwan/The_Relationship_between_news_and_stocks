{
 "cells": [
  {
   "cell_type": "code",
   "execution_count": 1,
   "metadata": {},
   "outputs": [
    {
     "data": {
      "text/html": [
       "<div>\n",
       "<style scoped>\n",
       "    .dataframe tbody tr th:only-of-type {\n",
       "        vertical-align: middle;\n",
       "    }\n",
       "\n",
       "    .dataframe tbody tr th {\n",
       "        vertical-align: top;\n",
       "    }\n",
       "\n",
       "    .dataframe thead th {\n",
       "        text-align: right;\n",
       "    }\n",
       "</style>\n",
       "<table border=\"1\" class=\"dataframe\">\n",
       "  <thead>\n",
       "    <tr style=\"text-align: right;\">\n",
       "      <th></th>\n",
       "      <th>token</th>\n",
       "      <th>label</th>\n",
       "    </tr>\n",
       "  </thead>\n",
       "  <tbody>\n",
       "    <tr>\n",
       "      <th>0</th>\n",
       "      <td>[김, 다나, 디자인, 기자, 남, 이야기, 를, 듣, 지, 않, 고, 라, 떼, ...</td>\n",
       "      <td>0</td>\n",
       "    </tr>\n",
       "    <tr>\n",
       "      <th>1</th>\n",
       "      <td>[환, 위험, 모니터링, AI, 솔루션, 등, 포함, 9, 일, 서울, 강남구, 트...</td>\n",
       "      <td>0</td>\n",
       "    </tr>\n",
       "    <tr>\n",
       "      <th>2</th>\n",
       "      <td>[국제선, 여객, 수요, 늘어나, 었, 지만, 코로나, 이전, 수준, 회복, 까지,...</td>\n",
       "      <td>0</td>\n",
       "    </tr>\n",
       "    <tr>\n",
       "      <th>3</th>\n",
       "      <td>[한솔, 제지, 내수, 시장, 점유율, 37, 8, 에서, 45, 5, 까, 지, ...</td>\n",
       "      <td>0</td>\n",
       "    </tr>\n",
       "    <tr>\n",
       "      <th>4</th>\n",
       "      <td>[소비재, 지수, 이달, 7, 하락, 실적, 대비, 주가, 하락폭, 커, 어, 최근...</td>\n",
       "      <td>1</td>\n",
       "    </tr>\n",
       "    <tr>\n",
       "      <th>...</th>\n",
       "      <td>...</td>\n",
       "      <td>...</td>\n",
       "    </tr>\n",
       "    <tr>\n",
       "      <th>89290</th>\n",
       "      <td>[최, 태원, 대한, 상공, 회의, 소, 회장, 이, 24, 일, 오전, 상의, 국...</td>\n",
       "      <td>0</td>\n",
       "    </tr>\n",
       "    <tr>\n",
       "      <th>89291</th>\n",
       "      <td>[미래, 에, 셋, 증권, 은, 인공지능, 기반, 핀, 테크, 스타트, 업, 크래프...</td>\n",
       "      <td>1</td>\n",
       "    </tr>\n",
       "    <tr>\n",
       "      <th>89292</th>\n",
       "      <td>[이강, 민, 데이, 원, 컴퍼니, 대표, 최신, 화, 콘텐츠, 중점, 수업, 15...</td>\n",
       "      <td>1</td>\n",
       "    </tr>\n",
       "    <tr>\n",
       "      <th>89293</th>\n",
       "      <td>[청약, 통장, 없이, 만, 19, 세, 이상, 누구, 나, 청약, 신청, 가능, ...</td>\n",
       "      <td>1</td>\n",
       "    </tr>\n",
       "    <tr>\n",
       "      <th>89294</th>\n",
       "      <td>[삼성, ENG, 17, 억, 달러, 수주, 1, 위, 국내, 건설사, 들, 이, ...</td>\n",
       "      <td>0</td>\n",
       "    </tr>\n",
       "  </tbody>\n",
       "</table>\n",
       "<p>89295 rows × 2 columns</p>\n",
       "</div>"
      ],
      "text/plain": [
       "                                                   token  label\n",
       "0      [김, 다나, 디자인, 기자, 남, 이야기, 를, 듣, 지, 않, 고, 라, 떼, ...      0\n",
       "1      [환, 위험, 모니터링, AI, 솔루션, 등, 포함, 9, 일, 서울, 강남구, 트...      0\n",
       "2      [국제선, 여객, 수요, 늘어나, 었, 지만, 코로나, 이전, 수준, 회복, 까지,...      0\n",
       "3      [한솔, 제지, 내수, 시장, 점유율, 37, 8, 에서, 45, 5, 까, 지, ...      0\n",
       "4      [소비재, 지수, 이달, 7, 하락, 실적, 대비, 주가, 하락폭, 커, 어, 최근...      1\n",
       "...                                                  ...    ...\n",
       "89290  [최, 태원, 대한, 상공, 회의, 소, 회장, 이, 24, 일, 오전, 상의, 국...      0\n",
       "89291  [미래, 에, 셋, 증권, 은, 인공지능, 기반, 핀, 테크, 스타트, 업, 크래프...      1\n",
       "89292  [이강, 민, 데이, 원, 컴퍼니, 대표, 최신, 화, 콘텐츠, 중점, 수업, 15...      1\n",
       "89293  [청약, 통장, 없이, 만, 19, 세, 이상, 누구, 나, 청약, 신청, 가능, ...      1\n",
       "89294  [삼성, ENG, 17, 억, 달러, 수주, 1, 위, 국내, 건설사, 들, 이, ...      0\n",
       "\n",
       "[89295 rows x 2 columns]"
      ]
     },
     "execution_count": 1,
     "metadata": {},
     "output_type": "execute_result"
    }
   ],
   "source": [
    "import pandas as pd\n",
    "from ast import literal_eval\n",
    "\n",
    "train = pd.read_csv('train2.csv', converters = {'token' : literal_eval})\n",
    "train"
   ]
  },
  {
   "cell_type": "code",
   "execution_count": 2,
   "metadata": {},
   "outputs": [
    {
     "name": "stderr",
     "output_type": "stream",
     "text": [
      "100%|██████████| 89295/89295 [00:25<00:00, 3564.39it/s]\n"
     ]
    },
    {
     "data": {
      "text/html": [
       "<div>\n",
       "<style scoped>\n",
       "    .dataframe tbody tr th:only-of-type {\n",
       "        vertical-align: middle;\n",
       "    }\n",
       "\n",
       "    .dataframe tbody tr th {\n",
       "        vertical-align: top;\n",
       "    }\n",
       "\n",
       "    .dataframe thead th {\n",
       "        text-align: right;\n",
       "    }\n",
       "</style>\n",
       "<table border=\"1\" class=\"dataframe\">\n",
       "  <thead>\n",
       "    <tr style=\"text-align: right;\">\n",
       "      <th></th>\n",
       "      <th>token</th>\n",
       "      <th>label</th>\n",
       "    </tr>\n",
       "  </thead>\n",
       "  <tbody>\n",
       "    <tr>\n",
       "      <th>0</th>\n",
       "      <td>[김, 다나, 디자인, 기자, 남, 이야기, 듣, 지, 않, 고, 라, 떼, 만, ...</td>\n",
       "      <td>0</td>\n",
       "    </tr>\n",
       "    <tr>\n",
       "      <th>1</th>\n",
       "      <td>[환, 위험, 모니터링, AI, 솔루션, 등, 포함, 일, 서울, 강남구, 트레이드...</td>\n",
       "      <td>0</td>\n",
       "    </tr>\n",
       "    <tr>\n",
       "      <th>2</th>\n",
       "      <td>[국제선, 여객, 수요, 늘어나, 었, 지만, 코로나, 이전, 수준, 회복, 까지,...</td>\n",
       "      <td>0</td>\n",
       "    </tr>\n",
       "    <tr>\n",
       "      <th>3</th>\n",
       "      <td>[한솔, 제지, 내수, 시장, 점유율, 에서, 까, 지, 분기, 해상, 운임, 료,...</td>\n",
       "      <td>0</td>\n",
       "    </tr>\n",
       "    <tr>\n",
       "      <th>4</th>\n",
       "      <td>[소비재, 지수, 이달, 하락, 실적, 대비, 주가, 하락폭, 커, 어, 최근, 중...</td>\n",
       "      <td>1</td>\n",
       "    </tr>\n",
       "    <tr>\n",
       "      <th>...</th>\n",
       "      <td>...</td>\n",
       "      <td>...</td>\n",
       "    </tr>\n",
       "    <tr>\n",
       "      <th>89290</th>\n",
       "      <td>[최, 태원, 대한, 상공, 회의, 소, 회장, 일, 오전, 상의, 국제, 회의장,...</td>\n",
       "      <td>0</td>\n",
       "    </tr>\n",
       "    <tr>\n",
       "      <th>89291</th>\n",
       "      <td>[미래, 셋, 증권, 인공지능, 기반, 핀, 테크, 스타트, 업, 크래프트, 테크놀...</td>\n",
       "      <td>1</td>\n",
       "    </tr>\n",
       "    <tr>\n",
       "      <th>89292</th>\n",
       "      <td>[이강, 민, 데이, 원, 컴퍼니, 대표, 최신, 화, 콘텐츠, 중점, 수업, 명,...</td>\n",
       "      <td>1</td>\n",
       "    </tr>\n",
       "    <tr>\n",
       "      <th>89293</th>\n",
       "      <td>[청약, 통장, 없이, 만, 세, 이상, 누구, 나, 청약, 신청, 가능, 내, 집...</td>\n",
       "      <td>1</td>\n",
       "    </tr>\n",
       "    <tr>\n",
       "      <th>89294</th>\n",
       "      <td>[삼성, ENG, 억, 달러, 수주, 위, 국내, 건설사, 최근, 유가, 상승, 인...</td>\n",
       "      <td>0</td>\n",
       "    </tr>\n",
       "  </tbody>\n",
       "</table>\n",
       "<p>89295 rows × 2 columns</p>\n",
       "</div>"
      ],
      "text/plain": [
       "                                                   token  label\n",
       "0      [김, 다나, 디자인, 기자, 남, 이야기, 듣, 지, 않, 고, 라, 떼, 만, ...      0\n",
       "1      [환, 위험, 모니터링, AI, 솔루션, 등, 포함, 일, 서울, 강남구, 트레이드...      0\n",
       "2      [국제선, 여객, 수요, 늘어나, 었, 지만, 코로나, 이전, 수준, 회복, 까지,...      0\n",
       "3      [한솔, 제지, 내수, 시장, 점유율, 에서, 까, 지, 분기, 해상, 운임, 료,...      0\n",
       "4      [소비재, 지수, 이달, 하락, 실적, 대비, 주가, 하락폭, 커, 어, 최근, 중...      1\n",
       "...                                                  ...    ...\n",
       "89290  [최, 태원, 대한, 상공, 회의, 소, 회장, 일, 오전, 상의, 국제, 회의장,...      0\n",
       "89291  [미래, 셋, 증권, 인공지능, 기반, 핀, 테크, 스타트, 업, 크래프트, 테크놀...      1\n",
       "89292  [이강, 민, 데이, 원, 컴퍼니, 대표, 최신, 화, 콘텐츠, 중점, 수업, 명,...      1\n",
       "89293  [청약, 통장, 없이, 만, 세, 이상, 누구, 나, 청약, 신청, 가능, 내, 집...      1\n",
       "89294  [삼성, ENG, 억, 달러, 수주, 위, 국내, 건설사, 최근, 유가, 상승, 인...      0\n",
       "\n",
       "[89295 rows x 2 columns]"
      ]
     },
     "execution_count": 2,
     "metadata": {},
     "output_type": "execute_result"
    }
   ],
   "source": [
    "from tqdm import tqdm\n",
    "def stopword(x):\n",
    "  stopword = [r'상승.*', r'하락.*', r'급등.*', r'급락.*',\n",
    "              '상승세', '하락세', '폭등', '폭락', '오름세',\n",
    "              '약세', '강세', '의', '가', '이', '은', '들',\n",
    "              '는', '좀', '잘', '걍', '과', '도', '를', '으로',\n",
    "              '자', '에', '와', '한', '하다', '에', '은', '는', '하']\n",
    "  return [i for i in x if i not in stopword and not i.isdigit()]\n",
    "\n",
    "tqdm.pandas()\n",
    "train[\"token\"] = train.token.progress_apply(stopword)\n",
    "train"
   ]
  },
  {
   "cell_type": "code",
   "execution_count": 4,
   "metadata": {},
   "outputs": [
    {
     "data": {
      "text/html": [
       "<div>\n",
       "<style scoped>\n",
       "    .dataframe tbody tr th:only-of-type {\n",
       "        vertical-align: middle;\n",
       "    }\n",
       "\n",
       "    .dataframe tbody tr th {\n",
       "        vertical-align: top;\n",
       "    }\n",
       "\n",
       "    .dataframe thead th {\n",
       "        text-align: right;\n",
       "    }\n",
       "</style>\n",
       "<table border=\"1\" class=\"dataframe\">\n",
       "  <thead>\n",
       "    <tr style=\"text-align: right;\">\n",
       "      <th></th>\n",
       "      <th>token</th>\n",
       "      <th>label</th>\n",
       "    </tr>\n",
       "  </thead>\n",
       "  <tbody>\n",
       "    <tr>\n",
       "      <th>0</th>\n",
       "      <td>[2500, 억, 모집, 액, 못, 채우, 고, 미달, 3, 년, 물, 2200, ...</td>\n",
       "      <td>1</td>\n",
       "    </tr>\n",
       "    <tr>\n",
       "      <th>1</th>\n",
       "      <td>[투자, 의견, 매수, 목표, 주가, 7, 만, 5000, 원, 유지, 메리츠증권,...</td>\n",
       "      <td>0</td>\n",
       "    </tr>\n",
       "    <tr>\n",
       "      <th>2</th>\n",
       "      <td>[금감원, 손보사, 에, 유사, 암, 일반, 암, 진단, 비, 자료, 요구, 올해,...</td>\n",
       "      <td>0</td>\n",
       "    </tr>\n",
       "    <tr>\n",
       "      <th>3</th>\n",
       "      <td>[2, 분기, 주요, 손해, 보험사, 실적, 전년, 대비, 5, 10, 증가, 전망...</td>\n",
       "      <td>0</td>\n",
       "    </tr>\n",
       "    <tr>\n",
       "      <th>4</th>\n",
       "      <td>[지정, 감사인, 제도, 로, 교체, 늘, 어, 외부, 감사, 전문, 성, 결여, ...</td>\n",
       "      <td>0</td>\n",
       "    </tr>\n",
       "    <tr>\n",
       "      <th>...</th>\n",
       "      <td>...</td>\n",
       "      <td>...</td>\n",
       "    </tr>\n",
       "    <tr>\n",
       "      <th>89290</th>\n",
       "      <td>[적자, 지속, 기업, 가치, 시장, 기대치, 못, 미치, 어, 네이버, 보유, 지...</td>\n",
       "      <td>1</td>\n",
       "    </tr>\n",
       "    <tr>\n",
       "      <th>89291</th>\n",
       "      <td>[앱, 출석, 후, 회원, 가, 입시, 80, 만, 명, 한정, 선착순, 국내, 최...</td>\n",
       "      <td>1</td>\n",
       "    </tr>\n",
       "    <tr>\n",
       "      <th>89292</th>\n",
       "      <td>[31, 일, 증권, 신고서, 제출, 4, 월, 기관, 수요, 예측, SK, 스퀘어...</td>\n",
       "      <td>1</td>\n",
       "    </tr>\n",
       "    <tr>\n",
       "      <th>89293</th>\n",
       "      <td>[삼부, 토건, 제, 3, 자, 배정, 증자, 방식, 으로, SK, 에코, 플랜트,...</td>\n",
       "      <td>1</td>\n",
       "    </tr>\n",
       "    <tr>\n",
       "      <th>89294</th>\n",
       "      <td>[1, Q, 상장, 하, ㄴ, 21, 개, 종목, 중, 8, 개, 종목, 은, 공모...</td>\n",
       "      <td>1</td>\n",
       "    </tr>\n",
       "  </tbody>\n",
       "</table>\n",
       "<p>89295 rows × 2 columns</p>\n",
       "</div>"
      ],
      "text/plain": [
       "                                                   token  label\n",
       "0      [2500, 억, 모집, 액, 못, 채우, 고, 미달, 3, 년, 물, 2200, ...      1\n",
       "1      [투자, 의견, 매수, 목표, 주가, 7, 만, 5000, 원, 유지, 메리츠증권,...      0\n",
       "2      [금감원, 손보사, 에, 유사, 암, 일반, 암, 진단, 비, 자료, 요구, 올해,...      0\n",
       "3      [2, 분기, 주요, 손해, 보험사, 실적, 전년, 대비, 5, 10, 증가, 전망...      0\n",
       "4      [지정, 감사인, 제도, 로, 교체, 늘, 어, 외부, 감사, 전문, 성, 결여, ...      0\n",
       "...                                                  ...    ...\n",
       "89290  [적자, 지속, 기업, 가치, 시장, 기대치, 못, 미치, 어, 네이버, 보유, 지...      1\n",
       "89291  [앱, 출석, 후, 회원, 가, 입시, 80, 만, 명, 한정, 선착순, 국내, 최...      1\n",
       "89292  [31, 일, 증권, 신고서, 제출, 4, 월, 기관, 수요, 예측, SK, 스퀘어...      1\n",
       "89293  [삼부, 토건, 제, 3, 자, 배정, 증자, 방식, 으로, SK, 에코, 플랜트,...      1\n",
       "89294  [1, Q, 상장, 하, ㄴ, 21, 개, 종목, 중, 8, 개, 종목, 은, 공모...      1\n",
       "\n",
       "[89295 rows x 2 columns]"
      ]
     },
     "execution_count": 4,
     "metadata": {},
     "output_type": "execute_result"
    }
   ],
   "source": [
    "validation = pd.read_csv('validation2.csv', converters = {'token' : literal_eval})\n",
    "validation"
   ]
  },
  {
   "cell_type": "code",
   "execution_count": 3,
   "metadata": {},
   "outputs": [],
   "source": [
    "import numpy as np\n",
    "import matplotlib.pyplot as plt\n",
    "from tensorflow.keras.preprocessing.text import Tokenizer\n",
    "from tensorflow.keras.preprocessing.sequence import pad_sequences"
   ]
  },
  {
   "cell_type": "code",
   "execution_count": 8,
   "metadata": {},
   "outputs": [],
   "source": [
    "x_train = []\n",
    "\n",
    "for i in range(0, int(len(train) * 0.8)):\n",
    "    x_train.append(train['token'][i])"
   ]
  },
  {
   "cell_type": "code",
   "execution_count": 11,
   "metadata": {},
   "outputs": [],
   "source": [
    "x_test = []\n",
    "\n",
    "for i in range(int(len(train) * 0.8), len(train)):\n",
    "    x_test.append(train['token'][i])"
   ]
  },
  {
   "cell_type": "code",
   "execution_count": 12,
   "metadata": {},
   "outputs": [],
   "source": [
    "tokenizer = Tokenizer()\n",
    "tokenizer.fit_on_texts(x_train)"
   ]
  },
  {
   "cell_type": "code",
   "execution_count": 14,
   "metadata": {},
   "outputs": [
    {
     "name": "stdout",
     "output_type": "stream",
     "text": [
      "단어 집합(vocabulary)의 크기 : 61122\n",
      "등장 빈도가 2번 이하인 희귀 단어의 수: 16681\n",
      "단어 집합에서 희귀 단어의 비율: 27.29131900134158\n",
      "전체 등장 빈도에서 희귀 단어 등장 빈도 비율: 0.066107195777679\n"
     ]
    }
   ],
   "source": [
    "threshold = 3\n",
    "total_cnt = len(tokenizer.word_index) # 단어의 수\n",
    "rare_cnt = 0 # 등장 빈도수가 threshold보다 작은 단어의 개수를 카운트\n",
    "total_freq = 0 # 훈련 데이터의 전체 단어 빈도수 총 합\n",
    "rare_freq = 0 # 등장 빈도수가 threshold보다 작은 단어의 등장 빈도수의 총 합\n",
    "\n",
    "# 단어와 빈도수의 쌍(pair)을 key와 value로 받는다.\n",
    "for key, value in tokenizer.word_counts.items():\n",
    "    total_freq = total_freq + value\n",
    "\n",
    "    # 단어의 등장 빈도수가 threshold보다 작으면\n",
    "    if(value < threshold):\n",
    "        rare_cnt = rare_cnt + 1\n",
    "        rare_freq = rare_freq + value\n",
    "\n",
    "print('단어 집합(vocabulary)의 크기 :',total_cnt)\n",
    "print('등장 빈도가 %s번 이하인 희귀 단어의 수: %s'%(threshold - 1, rare_cnt))\n",
    "print(\"단어 집합에서 희귀 단어의 비율:\", (rare_cnt / total_cnt)*100)\n",
    "print(\"전체 등장 빈도에서 희귀 단어 등장 빈도 비율:\", (rare_freq / total_freq)*100)"
   ]
  },
  {
   "cell_type": "code",
   "execution_count": 15,
   "metadata": {},
   "outputs": [
    {
     "name": "stdout",
     "output_type": "stream",
     "text": [
      "단어 집합의 크기 : 44442\n"
     ]
    }
   ],
   "source": [
    "vocab_size = total_cnt - rare_cnt + 1\n",
    "print('단어 집합의 크기 :',vocab_size)"
   ]
  },
  {
   "cell_type": "code",
   "execution_count": 16,
   "metadata": {},
   "outputs": [],
   "source": [
    "tokenizer = Tokenizer(vocab_size) \n",
    "tokenizer.fit_on_texts(x_train)\n",
    "x_train = tokenizer.texts_to_sequences(x_train)\n",
    "x_test = tokenizer.texts_to_sequences(x_test)"
   ]
  },
  {
   "cell_type": "code",
   "execution_count": 18,
   "metadata": {},
   "outputs": [
    {
     "name": "stdout",
     "output_type": "stream",
     "text": [
      "[147, 7701, 836, 547, 796, 2625, 336, 20, 92, 6, 109, 2983, 17, 753, 2625, 25, 14914, 11, 25181, 30, 8, 357, 379, 1740, 48, 60, 132, 165, 2835, 2194, 1211, 506, 2454, 2714, 3, 25843, 4, 1, 48, 60, 3, 989, 8667, 97, 11, 9167, 3139, 112, 1259, 6499, 1308, 1753, 1774, 2919, 338, 215, 3239, 3, 2294, 46, 1, 84, 1359, 506, 11, 736, 51, 6362, 1541, 6499, 13562, 725, 2, 169, 104, 6, 9, 116, 177, 15, 18, 84, 33, 28, 379, 132, 103, 14914, 12, 2825, 5, 89, 25, 338, 713, 3, 1449, 165, 2835, 2194, 3, 215, 4230, 11, 2294, 4, 1, 6604, 914, 3, 260, 5, 906, 2582, 1161, 6, 1456, 578, 153, 3837, 13, 1196, 11677, 449, 25, 928, 1139, 162, 217, 1468, 1, 379, 132, 52, 717, 1110, 25, 8115, 8291, 5, 9, 2357, 25, 1927, 1224, 47, 5, 2011, 204, 1713, 3, 1449, 4, 1, 1211, 506, 459, 3, 1182, 1753, 1308, 2897, 978, 13, 1774, 850, 2950, 15, 3925, 64, 263, 2, 379, 132, 68, 2, 26, 48, 734, 1124, 32, 10674, 17, 89, 1116, 499, 10524, 152, 1308, 3, 180, 1, 23, 394, 1430, 412, 11, 8151, 5, 1363, 1058, 6, 4, 1, 68, 2, 26, 2897, 978, 11, 548, 3196, 578, 1756, 2, 4978, 6888, 3, 1327, 11, 23, 2332, 283, 260, 30, 2749, 46, 241, 128, 3, 2128, 6, 9, 1, 6, 1477, 4, 1, 48, 60, 384, 1313, 1001, 48, 309, 278, 356, 2498, 2161, 252, 6, 9, 1, 48, 309, 63, 60, 383, 906, 237, 2472, 2, 31, 16, 10, 1235, 3584, 31, 16, 10, 906, 237, 914, 4, 1, 787, 48, 60, 58, 19, 37, 31, 10, 3, 24, 6, 2347, 213, 283, 31, 16, 10, 3, 209, 41, 168, 750, 418, 1979, 13, 1226, 916, 1096, 15, 379, 132, 2600, 2, 6728, 1842, 231, 223, 103, 25, 906, 1392, 3, 1449, 1211, 2454, 358, 229, 196, 2884, 3160, 2, 14, 57, 2, 1055, 6842, 5, 45, 68, 2, 26, 764, 2001, 1211, 506, 161, 3, 265, 356, 215, 25, 713, 3, 609, 2, 410, 25, 5216, 2, 713, 11, 2561, 4231, 215, 1713, 58, 21, 153, 947, 1396, 34, 1, 295, 161, 35, 161, 356, 215, 3, 1713, 25, 176, 3, 590, 180, 116, 3033, 4, 1, 989, 2016, 2454, 4164, 7009, 13563, 1043, 25, 1541, 6499, 1308, 1842, 55, 2, 3856, 3, 1227, 3, 14, 65, 169, 15, 989, 157, 2898, 21650, 12096, 6, 928, 1308, 536, 1211, 506, 3517, 14589, 11, 59, 55, 2, 3856, 3, 1227, 6, 45, 28, 159, 2079, 494, 17, 214, 109, 2749, 3197, 2, 1753, 702, 3517, 3, 1012, 196, 88, 3160, 2, 1043, 165, 2835, 2194, 499, 2888, 4262, 7, 22, 9, 1, 6, 177, 4, 1]\n"
     ]
    }
   ],
   "source": [
    "print(x_train[0])"
   ]
  },
  {
   "cell_type": "code",
   "execution_count": 19,
   "metadata": {},
   "outputs": [],
   "source": [
    "y_train = np.array(train['label'])\n",
    "y_test = np.array(train['label'])"
   ]
  },
  {
   "cell_type": "code",
   "execution_count": 20,
   "metadata": {},
   "outputs": [],
   "source": [
    "drop_train = [index for index, sentence in enumerate(x_train) if len(sentence) < 1]"
   ]
  },
  {
   "cell_type": "code",
   "execution_count": 59,
   "metadata": {},
   "outputs": [
    {
     "name": "stdout",
     "output_type": "stream",
     "text": [
      "71436\n",
      "71436\n"
     ]
    }
   ],
   "source": [
    "x_train = np.delete(x_train, drop_train, axis=0)\n",
    "y_train = np.delete(y_train, drop_train, axis=0)[0:71436]\n",
    "print(len(x_train))\n",
    "print(len(y_train))"
   ]
  },
  {
   "cell_type": "code",
   "execution_count": 23,
   "metadata": {},
   "outputs": [
    {
     "name": "stdout",
     "output_type": "stream",
     "text": [
      "4572\n",
      "490.14321910521306\n"
     ]
    }
   ],
   "source": [
    "print(max(len(sentence) for sentence in x_train))\n",
    "print(sum(map(len, x_train)) / len(x_train))"
   ]
  },
  {
   "cell_type": "code",
   "execution_count": 25,
   "metadata": {},
   "outputs": [
    {
     "data": {
      "image/png": "[encoded data removed]",
      "text/plain": [
       "<Figure size 432x288 with 1 Axes>"
      ]
     },
     "metadata": {
      "needs_background": "light"
     },
     "output_type": "display_data"
    }
   ],
   "source": [
    "plt.hist([len(sentence) for sentence in x_train], bins=50)\n",
    "plt.xlabel('length of samples')\n",
    "plt.ylabel('number of samples')\n",
    "plt.show()"
   ]
  },
  {
   "cell_type": "code",
   "execution_count": 28,
   "metadata": {},
   "outputs": [],
   "source": [
    "def below_threshold_len(max_len, nested_list):\n",
    "    count = 0\n",
    "    for sentence in nested_list:\n",
    "        if(len(sentence) <= max_len):\n",
    "            count = count + 1\n",
    "    print('전체 샘플 중 길이가 %s 이하인 샘플의 비율: %s'%(max_len, (count / len(nested_list))*100))"
   ]
  },
  {
   "cell_type": "code",
   "execution_count": 36,
   "metadata": {},
   "outputs": [
    {
     "name": "stdout",
     "output_type": "stream",
     "text": [
      "전체 샘플 중 길이가 2000 이하인 샘플의 비율: 99.52544935326726\n"
     ]
    }
   ],
   "source": [
    "max_len = 2000\n",
    "below_threshold_len(max_len, x_train)"
   ]
  },
  {
   "cell_type": "code",
   "execution_count": 37,
   "metadata": {},
   "outputs": [],
   "source": [
    "x_train = pad_sequences(x_train, maxlen = max_len)\n",
    "x_test = pad_sequences(x_test, maxlen = max_len)"
   ]
  },
  {
   "cell_type": "code",
   "execution_count": 50,
   "metadata": {},
   "outputs": [],
   "source": [
    "from tensorflow.keras.layers import Embedding, Dense\n",
    "from tensorflow.keras.layers import Conv1D, GlobalMaxPooling1D, Dropout\n",
    "from tensorflow.keras.models import Sequential\n",
    "from tensorflow.keras.callbacks import EarlyStopping, ModelCheckpoint"
   ]
  },
  {
   "cell_type": "code",
   "execution_count": 53,
   "metadata": {},
   "outputs": [],
   "source": [
    "embedding_dim = max_len # 임베딩 벡터의 차원\n",
    "dropout_ratio = 0.4 # 드롭아웃 비율\n",
    "num_filters = 3 # 커널의 수\n",
    "kernel_size = 3 # 커널의 크기\n",
    "hidden_units = 128 # 뉴런의 수"
   ]
  },
  {
   "cell_type": "code",
   "execution_count": 54,
   "metadata": {},
   "outputs": [],
   "source": [
    "model = Sequential()\n",
    "model.add(Embedding(vocab_size, embedding_dim))\n",
    "model.add(Dropout(dropout_ratio))\n",
    "model.add(Conv1D(num_filters, kernel_size, padding = 'valid', activation = 'relu'))\n",
    "model.add(GlobalMaxPooling1D())\n",
    "model.add(Dense(hidden_units, activation='relu'))\n",
    "model.add(Dropout(dropout_ratio))\n",
    "model.add(Dense(1, activation = 'sigmoid'))"
   ]
  },
  {
   "cell_type": "code",
   "execution_count": 56,
   "metadata": {},
   "outputs": [],
   "source": [
    "es = EarlyStopping(monitor = 'val_loss', mode = 'min', verbose = 1, patience = 3)\n",
    "mc = ModelCheckpoint('TextCNN_best_model.h5', monitor = 'val_acc', mode = 'max', verbose = 1, save_best_only = True)"
   ]
  },
  {
   "cell_type": "code",
   "execution_count": 60,
   "metadata": {},
   "outputs": [
    {
     "name": "stdout",
     "output_type": "stream",
     "text": [
      "Epoch 1/20\n"
     ]
    },
    {
     "ename": "",
     "evalue": "",
     "output_type": "error",
     "traceback": [
      "\u001b[1;31mCanceled future for execute_request message before replies were done"
     ]
    },
    {
     "ename": "",
     "evalue": "",
     "output_type": "error",
     "traceback": [
      "\u001b[1;31m현재 셀 또는 이전 셀에서 코드를 실행하는 동안 Kernel이 충돌했습니다. 셀의 코드를 검토하여 오류의 가능한 원인을 식별하세요. 자세한 내용을 보려면 <a href='https://aka.ms/vscodeJupyterKernelCrash'> 여기 </a> 를 클릭하세요. 자세한 내용은 Jupyter <a href='command:jupyter.viewOutput'>로그</a>를 참조하세요."
     ]
    }
   ],
   "source": [
    "model.compile(optimizer='adam', loss='binary_crossentropy', metrics = ['acc'])\n",
    "history = model.fit(x_train, y_train, epochs=20, validation_data = (x_test, y_test), callbacks=[es, mc])"
   ]
  }
 ],
 "metadata": {
  "kernelspec": {
   "display_name": "Python 3.9.13 64-bit",
   "language": "python",
   "name": "python3"
  },
  "language_info": {
   "codemirror_mode": {
    "name": "ipython",
    "version": 3
   },
   "file_extension": ".py",
   "mimetype": "text/x-python",
   "name": "python",
   "nbconvert_exporter": "python",
   "pygments_lexer": "ipython3",
   "version": "3.9.13"
  },
  "orig_nbformat": 4,
  "vscode": {
   "interpreter": {
    "hash": "5032d577b80ebef2f7ce9eacaf1606914e2f8bc4f54bb832533ded3e41133f5c"
   }
  }
 },
 "nbformat": 4,
 "nbformat_minor": 2
}
