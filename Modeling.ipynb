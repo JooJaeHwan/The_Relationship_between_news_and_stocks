{
  "cells": [
    {
      "cell_type": "markdown",
      "metadata": {
        "id": "dR_ej9XRo6nK"
      },
      "source": [
        "# 필요 라이브러리 설치"
      ]
    },
    {
      "cell_type": "code",
      "execution_count": 3,
      "metadata": {
        "colab": {
          "base_uri": "https://localhost:8080/"
        },
        "id": "n3rkbEaEoUX3",
        "outputId": "65fe0592-95ab-4ed2-c90b-08a05125dd73"
      },
      "outputs": [
        {
          "name": "stdout",
          "output_type": "stream",
          "text": [
            "Requirement already satisfied: gensim in /opt/anaconda3/envs/jupyter/lib/python3.8/site-packages (4.2.0)\n",
            "Requirement already satisfied: numpy>=1.17.0 in /opt/anaconda3/envs/jupyter/lib/python3.8/site-packages (from gensim) (1.23.1)\n",
            "Requirement already satisfied: smart-open>=1.8.1 in /opt/anaconda3/envs/jupyter/lib/python3.8/site-packages (from gensim) (6.0.0)\n",
            "Requirement already satisfied: scipy>=0.18.1 in /opt/anaconda3/envs/jupyter/lib/python3.8/site-packages (from gensim) (1.9.0)\n",
            "Requirement already satisfied: keras-tuner in /opt/anaconda3/envs/jupyter/lib/python3.8/site-packages (1.1.3)\n",
            "Requirement already satisfied: packaging in /opt/anaconda3/envs/jupyter/lib/python3.8/site-packages (from keras-tuner) (21.3)\n",
            "Requirement already satisfied: ipython in /opt/anaconda3/envs/jupyter/lib/python3.8/site-packages (from keras-tuner) (8.4.0)\n",
            "Requirement already satisfied: requests in /opt/anaconda3/envs/jupyter/lib/python3.8/site-packages (from keras-tuner) (2.28.1)\n",
            "Requirement already satisfied: kt-legacy in /opt/anaconda3/envs/jupyter/lib/python3.8/site-packages (from keras-tuner) (1.0.4)\n",
            "Requirement already satisfied: tensorboard in /opt/anaconda3/envs/jupyter/lib/python3.8/site-packages (from keras-tuner) (2.9.1)\n",
            "Requirement already satisfied: numpy in /opt/anaconda3/envs/jupyter/lib/python3.8/site-packages (from keras-tuner) (1.23.1)\n",
            "Requirement already satisfied: backcall in /opt/anaconda3/envs/jupyter/lib/python3.8/site-packages (from ipython->keras-tuner) (0.2.0)\n",
            "Requirement already satisfied: pygments>=2.4.0 in /opt/anaconda3/envs/jupyter/lib/python3.8/site-packages (from ipython->keras-tuner) (2.12.0)\n",
            "Requirement already satisfied: appnope in /opt/anaconda3/envs/jupyter/lib/python3.8/site-packages (from ipython->keras-tuner) (0.1.3)\n",
            "Requirement already satisfied: stack-data in /opt/anaconda3/envs/jupyter/lib/python3.8/site-packages (from ipython->keras-tuner) (0.3.0)\n",
            "Requirement already satisfied: decorator in /opt/anaconda3/envs/jupyter/lib/python3.8/site-packages (from ipython->keras-tuner) (5.1.1)\n",
            "Requirement already satisfied: traitlets>=5 in /opt/anaconda3/envs/jupyter/lib/python3.8/site-packages (from ipython->keras-tuner) (5.3.0)\n",
            "Requirement already satisfied: jedi>=0.16 in /opt/anaconda3/envs/jupyter/lib/python3.8/site-packages (from ipython->keras-tuner) (0.18.1)\n",
            "Requirement already satisfied: prompt-toolkit!=3.0.0,!=3.0.1,<3.1.0,>=2.0.0 in /opt/anaconda3/envs/jupyter/lib/python3.8/site-packages (from ipython->keras-tuner) (3.0.30)\n",
            "Requirement already satisfied: matplotlib-inline in /opt/anaconda3/envs/jupyter/lib/python3.8/site-packages (from ipython->keras-tuner) (0.1.3)\n",
            "Requirement already satisfied: pexpect>4.3 in /opt/anaconda3/envs/jupyter/lib/python3.8/site-packages (from ipython->keras-tuner) (4.8.0)\n",
            "Requirement already satisfied: pickleshare in /opt/anaconda3/envs/jupyter/lib/python3.8/site-packages (from ipython->keras-tuner) (0.7.5)\n",
            "Requirement already satisfied: setuptools>=18.5 in /opt/anaconda3/envs/jupyter/lib/python3.8/site-packages (from ipython->keras-tuner) (61.2.0)\n",
            "Requirement already satisfied: pyparsing!=3.0.5,>=2.0.2 in /opt/anaconda3/envs/jupyter/lib/python3.8/site-packages (from packaging->keras-tuner) (3.0.9)\n",
            "Requirement already satisfied: charset-normalizer<3,>=2 in /opt/anaconda3/envs/jupyter/lib/python3.8/site-packages (from requests->keras-tuner) (2.1.0)\n",
            "Requirement already satisfied: urllib3<1.27,>=1.21.1 in /opt/anaconda3/envs/jupyter/lib/python3.8/site-packages (from requests->keras-tuner) (1.26.11)\n",
            "Requirement already satisfied: idna<4,>=2.5 in /opt/anaconda3/envs/jupyter/lib/python3.8/site-packages (from requests->keras-tuner) (3.3)\n",
            "Requirement already satisfied: certifi>=2017.4.17 in /opt/anaconda3/envs/jupyter/lib/python3.8/site-packages (from requests->keras-tuner) (2022.6.15)\n",
            "Requirement already satisfied: absl-py>=0.4 in /opt/anaconda3/envs/jupyter/lib/python3.8/site-packages (from tensorboard->keras-tuner) (1.2.0)\n",
            "Requirement already satisfied: markdown>=2.6.8 in /opt/anaconda3/envs/jupyter/lib/python3.8/site-packages (from tensorboard->keras-tuner) (3.4.1)\n",
            "Requirement already satisfied: tensorboard-plugin-wit>=1.6.0 in /opt/anaconda3/envs/jupyter/lib/python3.8/site-packages (from tensorboard->keras-tuner) (1.8.1)\n",
            "Requirement already satisfied: google-auth<3,>=1.6.3 in /opt/anaconda3/envs/jupyter/lib/python3.8/site-packages (from tensorboard->keras-tuner) (2.9.1)\n",
            "Requirement already satisfied: google-auth-oauthlib<0.5,>=0.4.1 in /opt/anaconda3/envs/jupyter/lib/python3.8/site-packages (from tensorboard->keras-tuner) (0.4.6)\n",
            "Requirement already satisfied: protobuf<3.20,>=3.9.2 in /opt/anaconda3/envs/jupyter/lib/python3.8/site-packages (from tensorboard->keras-tuner) (3.19.4)\n",
            "Requirement already satisfied: tensorboard-data-server<0.7.0,>=0.6.0 in /opt/anaconda3/envs/jupyter/lib/python3.8/site-packages (from tensorboard->keras-tuner) (0.6.1)\n",
            "Requirement already satisfied: werkzeug>=1.0.1 in /opt/anaconda3/envs/jupyter/lib/python3.8/site-packages (from tensorboard->keras-tuner) (2.2.1)\n",
            "Requirement already satisfied: wheel>=0.26 in /opt/anaconda3/envs/jupyter/lib/python3.8/site-packages (from tensorboard->keras-tuner) (0.37.1)\n",
            "Requirement already satisfied: grpcio>=1.24.3 in /opt/anaconda3/envs/jupyter/lib/python3.8/site-packages (from tensorboard->keras-tuner) (1.48.0)\n",
            "Requirement already satisfied: six>=1.9.0 in /opt/anaconda3/envs/jupyter/lib/python3.8/site-packages (from google-auth<3,>=1.6.3->tensorboard->keras-tuner) (1.16.0)\n",
            "Requirement already satisfied: pyasn1-modules>=0.2.1 in /opt/anaconda3/envs/jupyter/lib/python3.8/site-packages (from google-auth<3,>=1.6.3->tensorboard->keras-tuner) (0.2.8)\n",
            "Requirement already satisfied: rsa<5,>=3.1.4 in /opt/anaconda3/envs/jupyter/lib/python3.8/site-packages (from google-auth<3,>=1.6.3->tensorboard->keras-tuner) (4.9)\n",
            "Requirement already satisfied: cachetools<6.0,>=2.0.0 in /opt/anaconda3/envs/jupyter/lib/python3.8/site-packages (from google-auth<3,>=1.6.3->tensorboard->keras-tuner) (5.2.0)\n",
            "Requirement already satisfied: requests-oauthlib>=0.7.0 in /opt/anaconda3/envs/jupyter/lib/python3.8/site-packages (from google-auth-oauthlib<0.5,>=0.4.1->tensorboard->keras-tuner) (1.3.1)\n",
            "Requirement already satisfied: parso<0.9.0,>=0.8.0 in /opt/anaconda3/envs/jupyter/lib/python3.8/site-packages (from jedi>=0.16->ipython->keras-tuner) (0.8.3)\n",
            "Requirement already satisfied: importlib-metadata>=4.4 in /opt/anaconda3/envs/jupyter/lib/python3.8/site-packages (from markdown>=2.6.8->tensorboard->keras-tuner) (4.12.0)\n",
            "Requirement already satisfied: ptyprocess>=0.5 in /opt/anaconda3/envs/jupyter/lib/python3.8/site-packages (from pexpect>4.3->ipython->keras-tuner) (0.7.0)\n",
            "Requirement already satisfied: wcwidth in /opt/anaconda3/envs/jupyter/lib/python3.8/site-packages (from prompt-toolkit!=3.0.0,!=3.0.1,<3.1.0,>=2.0.0->ipython->keras-tuner) (0.2.5)\n",
            "Requirement already satisfied: MarkupSafe>=2.1.1 in /opt/anaconda3/envs/jupyter/lib/python3.8/site-packages (from werkzeug>=1.0.1->tensorboard->keras-tuner) (2.1.1)\n",
            "Requirement already satisfied: executing in /opt/anaconda3/envs/jupyter/lib/python3.8/site-packages (from stack-data->ipython->keras-tuner) (0.8.3)\n",
            "Requirement already satisfied: asttokens in /opt/anaconda3/envs/jupyter/lib/python3.8/site-packages (from stack-data->ipython->keras-tuner) (2.0.5)\n",
            "Requirement already satisfied: pure-eval in /opt/anaconda3/envs/jupyter/lib/python3.8/site-packages (from stack-data->ipython->keras-tuner) (0.2.2)\n",
            "Requirement already satisfied: zipp>=0.5 in /opt/anaconda3/envs/jupyter/lib/python3.8/site-packages (from importlib-metadata>=4.4->markdown>=2.6.8->tensorboard->keras-tuner) (3.8.1)\n",
            "Requirement already satisfied: pyasn1<0.5.0,>=0.4.6 in /opt/anaconda3/envs/jupyter/lib/python3.8/site-packages (from pyasn1-modules>=0.2.1->google-auth<3,>=1.6.3->tensorboard->keras-tuner) (0.4.8)\n",
            "Requirement already satisfied: oauthlib>=3.0.0 in /opt/anaconda3/envs/jupyter/lib/python3.8/site-packages (from requests-oauthlib>=0.7.0->google-auth-oauthlib<0.5,>=0.4.1->tensorboard->keras-tuner) (3.2.0)\n",
            "Requirement already satisfied: pymysql in /opt/anaconda3/envs/jupyter/lib/python3.8/site-packages (1.0.2)\n",
            "Collecting tensorflow\n",
            "  Using cached tensorflow-2.9.1-cp38-cp38-macosx_10_14_x86_64.whl (228.5 MB)\n",
            "Collecting opt-einsum>=2.3.2\n",
            "  Using cached opt_einsum-3.3.0-py3-none-any.whl (65 kB)\n",
            "Collecting gast<=0.4.0,>=0.2.1\n",
            "  Using cached gast-0.4.0-py3-none-any.whl (9.8 kB)\n",
            "Requirement already satisfied: absl-py>=1.0.0 in /opt/anaconda3/envs/jupyter/lib/python3.8/site-packages (from tensorflow) (1.2.0)\n",
            "Collecting typing-extensions>=3.6.6\n",
            "  Using cached typing_extensions-4.3.0-py3-none-any.whl (25 kB)\n",
            "Requirement already satisfied: tensorboard<2.10,>=2.9 in /opt/anaconda3/envs/jupyter/lib/python3.8/site-packages (from tensorflow) (2.9.1)\n",
            "Collecting tensorflow-io-gcs-filesystem>=0.23.1\n",
            "  Using cached tensorflow_io_gcs_filesystem-0.26.0-cp38-cp38-macosx_10_14_x86_64.whl (1.6 MB)\n",
            "Requirement already satisfied: numpy>=1.20 in /opt/anaconda3/envs/jupyter/lib/python3.8/site-packages (from tensorflow) (1.23.1)\n",
            "Collecting astunparse>=1.6.0\n",
            "  Using cached astunparse-1.6.3-py2.py3-none-any.whl (12 kB)\n",
            "Requirement already satisfied: setuptools in /opt/anaconda3/envs/jupyter/lib/python3.8/site-packages (from tensorflow) (61.2.0)\n",
            "Requirement already satisfied: grpcio<2.0,>=1.24.3 in /opt/anaconda3/envs/jupyter/lib/python3.8/site-packages (from tensorflow) (1.48.0)\n",
            "Requirement already satisfied: packaging in /opt/anaconda3/envs/jupyter/lib/python3.8/site-packages (from tensorflow) (21.3)\n",
            "Collecting h5py>=2.9.0\n",
            "  Using cached h5py-3.7.0-cp38-cp38-macosx_10_9_x86_64.whl (3.2 MB)\n",
            "Requirement already satisfied: protobuf<3.20,>=3.9.2 in /opt/anaconda3/envs/jupyter/lib/python3.8/site-packages (from tensorflow) (3.19.4)\n",
            "Collecting libclang>=13.0.0\n",
            "  Using cached libclang-14.0.1-py2.py3-none-macosx_10_9_x86_64.whl (13.2 MB)\n",
            "Requirement already satisfied: six>=1.12.0 in /opt/anaconda3/envs/jupyter/lib/python3.8/site-packages (from tensorflow) (1.16.0)\n",
            "Collecting keras<2.10.0,>=2.9.0rc0\n",
            "  Using cached keras-2.9.0-py2.py3-none-any.whl (1.6 MB)\n",
            "Collecting keras-preprocessing>=1.1.1\n",
            "  Using cached Keras_Preprocessing-1.1.2-py2.py3-none-any.whl (42 kB)\n",
            "Collecting wrapt>=1.11.0\n",
            "  Using cached wrapt-1.14.1-cp38-cp38-macosx_10_9_x86_64.whl (35 kB)\n",
            "Collecting tensorflow-estimator<2.10.0,>=2.9.0rc0\n",
            "  Using cached tensorflow_estimator-2.9.0-py2.py3-none-any.whl (438 kB)\n",
            "Collecting termcolor>=1.1.0\n",
            "  Using cached termcolor-1.1.0-py3-none-any.whl\n",
            "Collecting flatbuffers<2,>=1.12\n",
            "  Using cached flatbuffers-1.12-py2.py3-none-any.whl (15 kB)\n",
            "Collecting google-pasta>=0.1.1\n",
            "  Using cached google_pasta-0.2.0-py3-none-any.whl (57 kB)\n",
            "Requirement already satisfied: wheel<1.0,>=0.23.0 in /opt/anaconda3/envs/jupyter/lib/python3.8/site-packages (from astunparse>=1.6.0->tensorflow) (0.37.1)\n",
            "Requirement already satisfied: werkzeug>=1.0.1 in /opt/anaconda3/envs/jupyter/lib/python3.8/site-packages (from tensorboard<2.10,>=2.9->tensorflow) (2.2.1)\n",
            "Requirement already satisfied: google-auth-oauthlib<0.5,>=0.4.1 in /opt/anaconda3/envs/jupyter/lib/python3.8/site-packages (from tensorboard<2.10,>=2.9->tensorflow) (0.4.6)\n",
            "Requirement already satisfied: requests<3,>=2.21.0 in /opt/anaconda3/envs/jupyter/lib/python3.8/site-packages (from tensorboard<2.10,>=2.9->tensorflow) (2.28.1)\n",
            "Requirement already satisfied: tensorboard-data-server<0.7.0,>=0.6.0 in /opt/anaconda3/envs/jupyter/lib/python3.8/site-packages (from tensorboard<2.10,>=2.9->tensorflow) (0.6.1)\n",
            "Requirement already satisfied: tensorboard-plugin-wit>=1.6.0 in /opt/anaconda3/envs/jupyter/lib/python3.8/site-packages (from tensorboard<2.10,>=2.9->tensorflow) (1.8.1)\n",
            "Requirement already satisfied: google-auth<3,>=1.6.3 in /opt/anaconda3/envs/jupyter/lib/python3.8/site-packages (from tensorboard<2.10,>=2.9->tensorflow) (2.9.1)\n",
            "Requirement already satisfied: markdown>=2.6.8 in /opt/anaconda3/envs/jupyter/lib/python3.8/site-packages (from tensorboard<2.10,>=2.9->tensorflow) (3.4.1)\n",
            "Requirement already satisfied: pyparsing!=3.0.5,>=2.0.2 in /opt/anaconda3/envs/jupyter/lib/python3.8/site-packages (from packaging->tensorflow) (3.0.9)\n",
            "Requirement already satisfied: pyasn1-modules>=0.2.1 in /opt/anaconda3/envs/jupyter/lib/python3.8/site-packages (from google-auth<3,>=1.6.3->tensorboard<2.10,>=2.9->tensorflow) (0.2.8)\n",
            "Requirement already satisfied: rsa<5,>=3.1.4 in /opt/anaconda3/envs/jupyter/lib/python3.8/site-packages (from google-auth<3,>=1.6.3->tensorboard<2.10,>=2.9->tensorflow) (4.9)\n",
            "Requirement already satisfied: cachetools<6.0,>=2.0.0 in /opt/anaconda3/envs/jupyter/lib/python3.8/site-packages (from google-auth<3,>=1.6.3->tensorboard<2.10,>=2.9->tensorflow) (5.2.0)\n",
            "Requirement already satisfied: requests-oauthlib>=0.7.0 in /opt/anaconda3/envs/jupyter/lib/python3.8/site-packages (from google-auth-oauthlib<0.5,>=0.4.1->tensorboard<2.10,>=2.9->tensorflow) (1.3.1)\n",
            "Requirement already satisfied: importlib-metadata>=4.4 in /opt/anaconda3/envs/jupyter/lib/python3.8/site-packages (from markdown>=2.6.8->tensorboard<2.10,>=2.9->tensorflow) (4.12.0)\n",
            "Requirement already satisfied: urllib3<1.27,>=1.21.1 in /opt/anaconda3/envs/jupyter/lib/python3.8/site-packages (from requests<3,>=2.21.0->tensorboard<2.10,>=2.9->tensorflow) (1.26.11)\n",
            "Requirement already satisfied: idna<4,>=2.5 in /opt/anaconda3/envs/jupyter/lib/python3.8/site-packages (from requests<3,>=2.21.0->tensorboard<2.10,>=2.9->tensorflow) (3.3)\n",
            "Requirement already satisfied: charset-normalizer<3,>=2 in /opt/anaconda3/envs/jupyter/lib/python3.8/site-packages (from requests<3,>=2.21.0->tensorboard<2.10,>=2.9->tensorflow) (2.1.0)\n",
            "Requirement already satisfied: certifi>=2017.4.17 in /opt/anaconda3/envs/jupyter/lib/python3.8/site-packages (from requests<3,>=2.21.0->tensorboard<2.10,>=2.9->tensorflow) (2022.6.15)\n",
            "Requirement already satisfied: MarkupSafe>=2.1.1 in /opt/anaconda3/envs/jupyter/lib/python3.8/site-packages (from werkzeug>=1.0.1->tensorboard<2.10,>=2.9->tensorflow) (2.1.1)\n",
            "Requirement already satisfied: zipp>=0.5 in /opt/anaconda3/envs/jupyter/lib/python3.8/site-packages (from importlib-metadata>=4.4->markdown>=2.6.8->tensorboard<2.10,>=2.9->tensorflow) (3.8.1)\n",
            "Requirement already satisfied: pyasn1<0.5.0,>=0.4.6 in /opt/anaconda3/envs/jupyter/lib/python3.8/site-packages (from pyasn1-modules>=0.2.1->google-auth<3,>=1.6.3->tensorboard<2.10,>=2.9->tensorflow) (0.4.8)\n",
            "Requirement already satisfied: oauthlib>=3.0.0 in /opt/anaconda3/envs/jupyter/lib/python3.8/site-packages (from requests-oauthlib>=0.7.0->google-auth-oauthlib<0.5,>=0.4.1->tensorboard<2.10,>=2.9->tensorflow) (3.2.0)\n",
            "Installing collected packages: termcolor, libclang, keras, flatbuffers, wrapt, typing-extensions, tensorflow-io-gcs-filesystem, tensorflow-estimator, opt-einsum, keras-preprocessing, h5py, google-pasta, gast, astunparse, tensorflow\n",
            "Successfully installed astunparse-1.6.3 flatbuffers-1.12 gast-0.4.0 google-pasta-0.2.0 h5py-3.7.0 keras-2.9.0 keras-preprocessing-1.1.2 libclang-14.0.1 opt-einsum-3.3.0 tensorflow-2.9.1 tensorflow-estimator-2.9.0 tensorflow-io-gcs-filesystem-0.26.0 termcolor-1.1.0 typing-extensions-4.3.0 wrapt-1.14.1\n"
          ]
        }
      ],
      "source": [
        "!pip install gensim --upgrade\n",
        "!pip install -U keras-tuner\n",
        "!pip install pymysql\n",
        "!pip install tensorflow"
      ]
    },
    {
      "cell_type": "markdown",
      "metadata": {
        "id": "N0C1j8ISo_ZF"
      },
      "source": [
        "# 라이브러리 불러오기"
      ]
    },
    {
      "cell_type": "code",
      "execution_count": 1,
      "metadata": {
        "id": "HBnLZMHPoWKT"
      },
      "outputs": [],
      "source": [
        "import IPython\n",
        "import keras_tuner as kt\n",
        "from tensorflow import keras\n",
        "from tensorflow.keras.models import Sequential, load_model\n",
        "from tensorflow.keras.layers import Embedding, Dense, GRU, Bidirectional\n",
        "from tensorflow.keras.callbacks import EarlyStopping, ModelCheckpoint\n",
        "from tensorflow.keras.preprocessing.text import Tokenizer\n",
        "from tensorflow.keras.preprocessing.sequence import pad_sequences\n",
        "import tensorflow as tf\n",
        "import pandas as pd\n",
        "import numpy as np\n",
        "import pymysql"
      ]
    },
    {
      "cell_type": "markdown",
      "metadata": {
        "id": "mSQiGqmbpCOA"
      },
      "source": [
        "# MySQL 연동"
      ]
    },
    {
      "cell_type": "code",
      "execution_count": 2,
      "metadata": {
        "id": "zQjw5Y7Jo2Xm"
      },
      "outputs": [],
      "source": [
        "conn = pymysql.connect(\n",
        "                        user    = '-',\n",
        "                        passwd  = '-',\n",
        "                        host    = \"-\",\n",
        "                        port    = 3306,\n",
        "                        db      = 'Data',\n",
        "                        charset = 'utf8'\n",
        "        )"
      ]
    },
    {
      "cell_type": "markdown",
      "metadata": {
        "id": "CjniBOObpGfH"
      },
      "source": [
        "# 데이터 불러오기"
      ]
    },
    {
      "cell_type": "code",
      "execution_count": 3,
      "metadata": {
        "colab": {
          "base_uri": "https://localhost:8080/",
          "height": 424
        },
        "id": "ca1Kr2o7pLdR",
        "outputId": "7c7d8d48-503d-47cb-df13-cb9167aa5493"
      },
      "outputs": [
        {
          "name": "stderr",
          "output_type": "stream",
          "text": [
            "/opt/anaconda3/envs/jupyter/lib/python3.8/site-packages/pandas/io/sql.py:761: UserWarning: pandas only support SQLAlchemy connectable(engine/connection) ordatabase string URI or sqlite3 DBAPI2 connectionother DBAPI2 objects are not tested, please consider using SQLAlchemy\n",
            "  warnings.warn(\n"
          ]
        },
        {
          "data": {
            "text/html": [
              "<div>\n",
              "<style scoped>\n",
              "    .dataframe tbody tr th:only-of-type {\n",
              "        vertical-align: middle;\n",
              "    }\n",
              "\n",
              "    .dataframe tbody tr th {\n",
              "        vertical-align: top;\n",
              "    }\n",
              "\n",
              "    .dataframe thead th {\n",
              "        text-align: right;\n",
              "    }\n",
              "</style>\n",
              "<table border=\"1\" class=\"dataframe\">\n",
              "  <thead>\n",
              "    <tr style=\"text-align: right;\">\n",
              "      <th></th>\n",
              "      <th>stock_id</th>\n",
              "      <th>text</th>\n",
              "      <th>date</th>\n",
              "      <th>token</th>\n",
              "      <th>label</th>\n",
              "    </tr>\n",
              "  </thead>\n",
              "  <tbody>\n",
              "    <tr>\n",
              "      <th>0</th>\n",
              "      <td>000060</td>\n",
              "      <td>2500억 모집액 못 채우고 미달 3년물 2200억에 1710억 모집 5년물 전액 ...</td>\n",
              "      <td>2022-07-15 19:54:00</td>\n",
              "      <td>['2500', '억', '모집', '액', '못', '채우', '고', '미달',...</td>\n",
              "      <td>1</td>\n",
              "    </tr>\n",
              "    <tr>\n",
              "      <th>1</th>\n",
              "      <td>000060</td>\n",
              "      <td>메리츠증권은 14일 아모레G에 대해 아모레퍼시픽 부진으로 투자 매력도가 상대적으로 ...</td>\n",
              "      <td>2022-07-14 08:36:00</td>\n",
              "      <td>['메리츠증권', '은', '14', '일', '아모레', 'G', '에', '대하...</td>\n",
              "      <td>0</td>\n",
              "    </tr>\n",
              "    <tr>\n",
              "      <th>2</th>\n",
              "      <td>000060</td>\n",
              "      <td>증시 과매도 PER 종목 쏟아진다 30개 PER 1 2배로 떨어져 PER 낮은 기업...</td>\n",
              "      <td>2022-07-13 17:36:00</td>\n",
              "      <td>['증시', '과', '매도', 'PER', '종목', '쏟아지', 'ㄴ다', '3...</td>\n",
              "      <td>1</td>\n",
              "    </tr>\n",
              "    <tr>\n",
              "      <th>3</th>\n",
              "      <td>000060</td>\n",
              "      <td>투자의견 매수 목표주가 7만5000원 유지 메리츠증권이 13일 SK텔레콤에 대해 2...</td>\n",
              "      <td>2022-07-13 08:18:00</td>\n",
              "      <td>['투자', '의견', '매수', '목표', '주가', '7', '만', '5000...</td>\n",
              "      <td>0</td>\n",
              "    </tr>\n",
              "    <tr>\n",
              "      <th>4</th>\n",
              "      <td>000060</td>\n",
              "      <td>금감원 손보사에 유사암 일반암 진단비 자료 요구 올해들어 손보사 유사암 경쟁 진단비...</td>\n",
              "      <td>2022-07-13 06:01:00</td>\n",
              "      <td>['금감원', '손보사', '에', '유사', '암', '일반', '암', '진단'...</td>\n",
              "      <td>0</td>\n",
              "    </tr>\n",
              "    <tr>\n",
              "      <th>...</th>\n",
              "      <td>...</td>\n",
              "      <td>...</td>\n",
              "      <td>...</td>\n",
              "      <td>...</td>\n",
              "      <td>...</td>\n",
              "    </tr>\n",
              "    <tr>\n",
              "      <th>111614</th>\n",
              "      <td>402340</td>\n",
              "      <td>앱출석 후 회원가입시 80만명 한정 선착순국내 최초 가상자산 거래소 코빗이 4월 한...</td>\n",
              "      <td>2022-04-01 11:17:00</td>\n",
              "      <td>['앱', '출석', '후', '회원', '가', '입시', '80', '만', '...</td>\n",
              "      <td>1</td>\n",
              "    </tr>\n",
              "    <tr>\n",
              "      <th>111615</th>\n",
              "      <td>402340</td>\n",
              "      <td>SK그룹 투자회사 SK스퀘어의 연결대상 종속회사 원스토어와 SK쉴더스가 증권신고서를...</td>\n",
              "      <td>2022-04-01 11:06:00</td>\n",
              "      <td>['SK', '그룹', '투자', '회사', 'SK', '스퀘어', '의', '연결...</td>\n",
              "      <td>1</td>\n",
              "    </tr>\n",
              "    <tr>\n",
              "      <th>111616</th>\n",
              "      <td>402340</td>\n",
              "      <td>31일 증권신고서 제출 4월 기관 수요예측 SK스퀘어 자회사들인 토종 앱스토어 원스...</td>\n",
              "      <td>2022-04-01 09:00:00</td>\n",
              "      <td>['31', '일', '증권', '신고서', '제출', '4', '월', '기관',...</td>\n",
              "      <td>1</td>\n",
              "    </tr>\n",
              "    <tr>\n",
              "      <th>111617</th>\n",
              "      <td>402340</td>\n",
              "      <td>삼부토건 제3자 배정증자 방식으로 SK에코플랜트에 보통주 11만 6106주 유상증...</td>\n",
              "      <td>2022-04-01 07:01:00</td>\n",
              "      <td>['삼부', '토건', '제', '3', '자', '배정', '증자', '방식', ...</td>\n",
              "      <td>1</td>\n",
              "    </tr>\n",
              "    <tr>\n",
              "      <th>111618</th>\n",
              "      <td>402340</td>\n",
              "      <td>1Q 상장한 21개 종목 중 8개 종목은 공모가 하회 금리인상 우려에 우크라이나까지...</td>\n",
              "      <td>2022-04-01 06:06:00</td>\n",
              "      <td>['1', 'Q', '상장', '하', 'ㄴ', '21', '개', '종목', '중...</td>\n",
              "      <td>1</td>\n",
              "    </tr>\n",
              "  </tbody>\n",
              "</table>\n",
              "<p>111619 rows × 5 columns</p>\n",
              "</div>"
            ],
            "text/plain": [
              "       stock_id                                               text  \\\n",
              "0        000060  2500억 모집액 못 채우고 미달 3년물 2200억에 1710억 모집 5년물 전액 ...   \n",
              "1        000060  메리츠증권은 14일 아모레G에 대해 아모레퍼시픽 부진으로 투자 매력도가 상대적으로 ...   \n",
              "2        000060  증시 과매도 PER 종목 쏟아진다 30개 PER 1 2배로 떨어져 PER 낮은 기업...   \n",
              "3        000060  투자의견 매수 목표주가 7만5000원 유지 메리츠증권이 13일 SK텔레콤에 대해 2...   \n",
              "4        000060  금감원 손보사에 유사암 일반암 진단비 자료 요구 올해들어 손보사 유사암 경쟁 진단비...   \n",
              "...         ...                                                ...   \n",
              "111614   402340  앱출석 후 회원가입시 80만명 한정 선착순국내 최초 가상자산 거래소 코빗이 4월 한...   \n",
              "111615   402340  SK그룹 투자회사 SK스퀘어의 연결대상 종속회사 원스토어와 SK쉴더스가 증권신고서를...   \n",
              "111616   402340  31일 증권신고서 제출 4월 기관 수요예측 SK스퀘어 자회사들인 토종 앱스토어 원스...   \n",
              "111617   402340   삼부토건 제3자 배정증자 방식으로 SK에코플랜트에 보통주 11만 6106주 유상증...   \n",
              "111618   402340  1Q 상장한 21개 종목 중 8개 종목은 공모가 하회 금리인상 우려에 우크라이나까지...   \n",
              "\n",
              "                      date                                              token  \\\n",
              "0      2022-07-15 19:54:00  ['2500', '억', '모집', '액', '못', '채우', '고', '미달',...   \n",
              "1      2022-07-14 08:36:00  ['메리츠증권', '은', '14', '일', '아모레', 'G', '에', '대하...   \n",
              "2      2022-07-13 17:36:00  ['증시', '과', '매도', 'PER', '종목', '쏟아지', 'ㄴ다', '3...   \n",
              "3      2022-07-13 08:18:00  ['투자', '의견', '매수', '목표', '주가', '7', '만', '5000...   \n",
              "4      2022-07-13 06:01:00  ['금감원', '손보사', '에', '유사', '암', '일반', '암', '진단'...   \n",
              "...                    ...                                                ...   \n",
              "111614 2022-04-01 11:17:00  ['앱', '출석', '후', '회원', '가', '입시', '80', '만', '...   \n",
              "111615 2022-04-01 11:06:00  ['SK', '그룹', '투자', '회사', 'SK', '스퀘어', '의', '연결...   \n",
              "111616 2022-04-01 09:00:00  ['31', '일', '증권', '신고서', '제출', '4', '월', '기관',...   \n",
              "111617 2022-04-01 07:01:00  ['삼부', '토건', '제', '3', '자', '배정', '증자', '방식', ...   \n",
              "111618 2022-04-01 06:06:00  ['1', 'Q', '상장', '하', 'ㄴ', '21', '개', '종목', '중...   \n",
              "\n",
              "        label  \n",
              "0           1  \n",
              "1           0  \n",
              "2           1  \n",
              "3           0  \n",
              "4           0  \n",
              "...       ...  \n",
              "111614      1  \n",
              "111615      1  \n",
              "111616      1  \n",
              "111617      1  \n",
              "111618      1  \n",
              "\n",
              "[111619 rows x 5 columns]"
            ]
          },
          "execution_count": 3,
          "metadata": {},
          "output_type": "execute_result"
        }
      ],
      "source": [
        "sql = 'SELECT stock_id, text, date, token, label FROM Token'\n",
        "news = pd.read_sql(sql, conn)\n",
        "news"
      ]
    },
    {
      "cell_type": "markdown",
      "metadata": {
        "id": "H6wTHL73vasB"
      },
      "source": [
        "# 데이터 전처리"
      ]
    },
    {
      "cell_type": "markdown",
      "metadata": {
        "id": "LPgBpneYveDz"
      },
      "source": [
        "## Token을 str -> list 형태로 변환"
      ]
    },
    {
      "cell_type": "code",
      "execution_count": 4,
      "metadata": {
        "id": "_TrLIHcOseW7"
      },
      "outputs": [],
      "source": [
        "import re\n",
        "\n",
        "def str_to_list(d):\n",
        "  text = re.sub(r'[\\[\\'\\]]', '', d)\n",
        "  return text.split(\", \")\n",
        "\n",
        "news[\"token\"] = news.token.apply(str_to_list)"
      ]
    },
    {
      "cell_type": "markdown",
      "metadata": {
        "id": "FZAYWVFnyVAd"
      },
      "source": [
        "## 불용어 처리"
      ]
    },
    {
      "cell_type": "code",
      "execution_count": 5,
      "metadata": {
        "colab": {
          "base_uri": "https://localhost:8080/",
          "height": 441
        },
        "id": "jKHErJLftru0",
        "outputId": "458d56f3-def8-4b20-90f3-9b23870c211a"
      },
      "outputs": [
        {
          "name": "stderr",
          "output_type": "stream",
          "text": [
            "100%|██████████| 111619/111619 [00:48<00:00, 2290.52it/s]\n"
          ]
        },
        {
          "data": {
            "text/html": [
              "<div>\n",
              "<style scoped>\n",
              "    .dataframe tbody tr th:only-of-type {\n",
              "        vertical-align: middle;\n",
              "    }\n",
              "\n",
              "    .dataframe tbody tr th {\n",
              "        vertical-align: top;\n",
              "    }\n",
              "\n",
              "    .dataframe thead th {\n",
              "        text-align: right;\n",
              "    }\n",
              "</style>\n",
              "<table border=\"1\" class=\"dataframe\">\n",
              "  <thead>\n",
              "    <tr style=\"text-align: right;\">\n",
              "      <th></th>\n",
              "      <th>stock_id</th>\n",
              "      <th>text</th>\n",
              "      <th>date</th>\n",
              "      <th>token</th>\n",
              "      <th>label</th>\n",
              "    </tr>\n",
              "  </thead>\n",
              "  <tbody>\n",
              "    <tr>\n",
              "      <th>0</th>\n",
              "      <td>000060</td>\n",
              "      <td>2500억 모집액 못 채우고 미달 3년물 2200억에 1710억 모집 5년물 전액 ...</td>\n",
              "      <td>2022-07-15 19:54:00</td>\n",
              "      <td>[2500, 억, 모집, 액, 못, 채우, 고, 미달, 3, 년, 물, 2200, ...</td>\n",
              "      <td>1</td>\n",
              "    </tr>\n",
              "    <tr>\n",
              "      <th>1</th>\n",
              "      <td>000060</td>\n",
              "      <td>메리츠증권은 14일 아모레G에 대해 아모레퍼시픽 부진으로 투자 매력도가 상대적으로 ...</td>\n",
              "      <td>2022-07-14 08:36:00</td>\n",
              "      <td>[메리츠증권, 14, 일, 아모레, G, 대하, 어, 아모레, 퍼시픽, 부진, 투자...</td>\n",
              "      <td>0</td>\n",
              "    </tr>\n",
              "    <tr>\n",
              "      <th>2</th>\n",
              "      <td>000060</td>\n",
              "      <td>증시 과매도 PER 종목 쏟아진다 30개 PER 1 2배로 떨어져 PER 낮은 기업...</td>\n",
              "      <td>2022-07-13 17:36:00</td>\n",
              "      <td>[증시, 매도, PER, 종목, 쏟아지, ㄴ다, 30, 개, PER, 1, 2, 배...</td>\n",
              "      <td>1</td>\n",
              "    </tr>\n",
              "    <tr>\n",
              "      <th>3</th>\n",
              "      <td>000060</td>\n",
              "      <td>투자의견 매수 목표주가 7만5000원 유지 메리츠증권이 13일 SK텔레콤에 대해 2...</td>\n",
              "      <td>2022-07-13 08:18:00</td>\n",
              "      <td>[투자, 의견, 매수, 목표, 주가, 7, 만, 5000, 원, 유지, 메리츠증권,...</td>\n",
              "      <td>0</td>\n",
              "    </tr>\n",
              "    <tr>\n",
              "      <th>4</th>\n",
              "      <td>000060</td>\n",
              "      <td>금감원 손보사에 유사암 일반암 진단비 자료 요구 올해들어 손보사 유사암 경쟁 진단비...</td>\n",
              "      <td>2022-07-13 06:01:00</td>\n",
              "      <td>[금감원, 손보사, 유사, 암, 일반, 암, 진단, 비, 자료, 요구, 올해, 듣,...</td>\n",
              "      <td>0</td>\n",
              "    </tr>\n",
              "    <tr>\n",
              "      <th>...</th>\n",
              "      <td>...</td>\n",
              "      <td>...</td>\n",
              "      <td>...</td>\n",
              "      <td>...</td>\n",
              "      <td>...</td>\n",
              "    </tr>\n",
              "    <tr>\n",
              "      <th>111614</th>\n",
              "      <td>402340</td>\n",
              "      <td>앱출석 후 회원가입시 80만명 한정 선착순국내 최초 가상자산 거래소 코빗이 4월 한...</td>\n",
              "      <td>2022-04-01 11:17:00</td>\n",
              "      <td>[앱, 출석, 후, 회원, 입시, 80, 만, 명, 한정, 선착순, 국내, 최초, ...</td>\n",
              "      <td>1</td>\n",
              "    </tr>\n",
              "    <tr>\n",
              "      <th>111615</th>\n",
              "      <td>402340</td>\n",
              "      <td>SK그룹 투자회사 SK스퀘어의 연결대상 종속회사 원스토어와 SK쉴더스가 증권신고서를...</td>\n",
              "      <td>2022-04-01 11:06:00</td>\n",
              "      <td>[SK, 그룹, 투자, 회사, SK, 스퀘어, 연결, 대상, 종속, 회사, 원, 스...</td>\n",
              "      <td>1</td>\n",
              "    </tr>\n",
              "    <tr>\n",
              "      <th>111616</th>\n",
              "      <td>402340</td>\n",
              "      <td>31일 증권신고서 제출 4월 기관 수요예측 SK스퀘어 자회사들인 토종 앱스토어 원스...</td>\n",
              "      <td>2022-04-01 09:00:00</td>\n",
              "      <td>[31, 일, 증권, 신고서, 제출, 4, 월, 기관, 수요, 예측, SK, 스퀘어...</td>\n",
              "      <td>1</td>\n",
              "    </tr>\n",
              "    <tr>\n",
              "      <th>111617</th>\n",
              "      <td>402340</td>\n",
              "      <td>삼부토건 제3자 배정증자 방식으로 SK에코플랜트에 보통주 11만 6106주 유상증...</td>\n",
              "      <td>2022-04-01 07:01:00</td>\n",
              "      <td>[삼부, 토건, 제, 3, 배정, 증자, 방식, SK, 에코, 플랜트, 보통주, 1...</td>\n",
              "      <td>1</td>\n",
              "    </tr>\n",
              "    <tr>\n",
              "      <th>111618</th>\n",
              "      <td>402340</td>\n",
              "      <td>1Q 상장한 21개 종목 중 8개 종목은 공모가 하회 금리인상 우려에 우크라이나까지...</td>\n",
              "      <td>2022-04-01 06:06:00</td>\n",
              "      <td>[1, Q, 상장, ㄴ, 21, 개, 종목, 중, 8, 개, 종목, 공모, 하회, ...</td>\n",
              "      <td>1</td>\n",
              "    </tr>\n",
              "  </tbody>\n",
              "</table>\n",
              "<p>111619 rows × 5 columns</p>\n",
              "</div>"
            ],
            "text/plain": [
              "       stock_id                                               text  \\\n",
              "0        000060  2500억 모집액 못 채우고 미달 3년물 2200억에 1710억 모집 5년물 전액 ...   \n",
              "1        000060  메리츠증권은 14일 아모레G에 대해 아모레퍼시픽 부진으로 투자 매력도가 상대적으로 ...   \n",
              "2        000060  증시 과매도 PER 종목 쏟아진다 30개 PER 1 2배로 떨어져 PER 낮은 기업...   \n",
              "3        000060  투자의견 매수 목표주가 7만5000원 유지 메리츠증권이 13일 SK텔레콤에 대해 2...   \n",
              "4        000060  금감원 손보사에 유사암 일반암 진단비 자료 요구 올해들어 손보사 유사암 경쟁 진단비...   \n",
              "...         ...                                                ...   \n",
              "111614   402340  앱출석 후 회원가입시 80만명 한정 선착순국내 최초 가상자산 거래소 코빗이 4월 한...   \n",
              "111615   402340  SK그룹 투자회사 SK스퀘어의 연결대상 종속회사 원스토어와 SK쉴더스가 증권신고서를...   \n",
              "111616   402340  31일 증권신고서 제출 4월 기관 수요예측 SK스퀘어 자회사들인 토종 앱스토어 원스...   \n",
              "111617   402340   삼부토건 제3자 배정증자 방식으로 SK에코플랜트에 보통주 11만 6106주 유상증...   \n",
              "111618   402340  1Q 상장한 21개 종목 중 8개 종목은 공모가 하회 금리인상 우려에 우크라이나까지...   \n",
              "\n",
              "                      date                                              token  \\\n",
              "0      2022-07-15 19:54:00  [2500, 억, 모집, 액, 못, 채우, 고, 미달, 3, 년, 물, 2200, ...   \n",
              "1      2022-07-14 08:36:00  [메리츠증권, 14, 일, 아모레, G, 대하, 어, 아모레, 퍼시픽, 부진, 투자...   \n",
              "2      2022-07-13 17:36:00  [증시, 매도, PER, 종목, 쏟아지, ㄴ다, 30, 개, PER, 1, 2, 배...   \n",
              "3      2022-07-13 08:18:00  [투자, 의견, 매수, 목표, 주가, 7, 만, 5000, 원, 유지, 메리츠증권,...   \n",
              "4      2022-07-13 06:01:00  [금감원, 손보사, 유사, 암, 일반, 암, 진단, 비, 자료, 요구, 올해, 듣,...   \n",
              "...                    ...                                                ...   \n",
              "111614 2022-04-01 11:17:00  [앱, 출석, 후, 회원, 입시, 80, 만, 명, 한정, 선착순, 국내, 최초, ...   \n",
              "111615 2022-04-01 11:06:00  [SK, 그룹, 투자, 회사, SK, 스퀘어, 연결, 대상, 종속, 회사, 원, 스...   \n",
              "111616 2022-04-01 09:00:00  [31, 일, 증권, 신고서, 제출, 4, 월, 기관, 수요, 예측, SK, 스퀘어...   \n",
              "111617 2022-04-01 07:01:00  [삼부, 토건, 제, 3, 배정, 증자, 방식, SK, 에코, 플랜트, 보통주, 1...   \n",
              "111618 2022-04-01 06:06:00  [1, Q, 상장, ㄴ, 21, 개, 종목, 중, 8, 개, 종목, 공모, 하회, ...   \n",
              "\n",
              "        label  \n",
              "0           1  \n",
              "1           0  \n",
              "2           1  \n",
              "3           0  \n",
              "4           0  \n",
              "...       ...  \n",
              "111614      1  \n",
              "111615      1  \n",
              "111616      1  \n",
              "111617      1  \n",
              "111618      1  \n",
              "\n",
              "[111619 rows x 5 columns]"
            ]
          },
          "execution_count": 5,
          "metadata": {},
          "output_type": "execute_result"
        }
      ],
      "source": [
        "from tqdm import tqdm\n",
        "def stopword(x):\n",
        "  stopword = [r'상승.*', r'하락.*', r'급등.*', r'급락.*', '상승세', '하락세', '폭등', '폭락', '오름세', '약세', '강세', '의', '가', '이', '은', '들', '는', '좀', '잘', '걍', '과', '도', '를', '으로', '자', '에', '와', '한', '하다', '에', '은', '는', '하']\n",
        "  return [i for i in x if i not in stopword]\n",
        "tqdm.pandas()\n",
        "news[\"token\"] = news.token.progress_apply(stopword)\n",
        "news"
      ]
    },
    {
      "cell_type": "markdown",
      "metadata": {
        "id": "3oAMHXDcy3GN"
      },
      "source": [
        "# 모델링"
      ]
    },
    {
      "cell_type": "markdown",
      "metadata": {
        "id": "O8Ro-JpLy7qW"
      },
      "source": [
        "## 데이터 셋 나누기"
      ]
    },
    {
      "cell_type": "code",
      "execution_count": 6,
      "metadata": {
        "colab": {
          "base_uri": "https://localhost:8080/"
        },
        "id": "lVYgMa1Zwr6-",
        "outputId": "22c3ef0b-3924-46ba-ca4a-9043f595ff31"
      },
      "outputs": [
        {
          "name": "stdout",
          "output_type": "stream",
          "text": [
            "(16701,) (16701,) (94918,) (94918,)\n"
          ]
        }
      ],
      "source": [
        "train = news.loc[news[\"date\"] >= '2022-07-01 00:00:00']\n",
        "test = news.loc[news[\"date\"] < '2022-07-01 00:00:00']\n",
        "\n",
        "X_train = train['token']\n",
        "y_train = train['label']\n",
        "X_test = test['token']\n",
        "y_test = test['label']\n",
        "\n",
        "print(X_train.shape, y_train.shape, X_test.shape, y_test.shape)"
      ]
    },
    {
      "cell_type": "markdown",
      "metadata": {
        "id": "MMQdxww8zbZc"
      },
      "source": [
        "## Tokenizer"
      ]
    },
    {
      "cell_type": "code",
      "execution_count": 7,
      "metadata": {
        "id": "317HJsK6zSDM"
      },
      "outputs": [],
      "source": [
        "tokenizer = Tokenizer()\n",
        "tokenizer.fit_on_texts(X_train)"
      ]
    },
    {
      "cell_type": "code",
      "execution_count": 8,
      "metadata": {
        "colab": {
          "base_uri": "https://localhost:8080/"
        },
        "id": "s_tpzFqazU9l",
        "outputId": "04d36a0a-38b8-4ab2-fbdf-3d5eba5e7d61"
      },
      "outputs": [
        {
          "name": "stdout",
          "output_type": "stream",
          "text": [
            "전체 단어 수 38853\n",
            "빈도가 2 이하인 희귀 단어 수: 9607\n",
            "희귀 단어 비율: 24.72653334362855\n",
            "희귀 단어 등장 빈도 비율: 0.15803616408697888\n"
          ]
        }
      ],
      "source": [
        "threshold = 3\n",
        "words_cnt = len(tokenizer.word_index)\n",
        "rare_cnt = 0\n",
        "words_freq = 0\n",
        "rare_freq = 0\n",
        "\n",
        "for key, value in tokenizer.word_counts.items():\n",
        "  words_freq += value\n",
        "\n",
        "  if value < threshold:\n",
        "    rare_cnt +=1\n",
        "    rare_freq += value\n",
        "\n",
        "print(\"전체 단어 수\", words_cnt)\n",
        "print(\"빈도가 {} 이하인 희귀 단어 수: {}\".format(threshold-1, rare_cnt))\n",
        "print(\"희귀 단어 비율: {}\".format((rare_cnt / words_cnt) * 100))\n",
        "print(\"희귀 단어 등장 빈도 비율: {}\".format((rare_freq / words_freq) * 100))"
      ]
    },
    {
      "cell_type": "code",
      "execution_count": 9,
      "metadata": {
        "colab": {
          "base_uri": "https://localhost:8080/"
        },
        "id": "OvKORLwWzZvO",
        "outputId": "cc5d02cf-14fa-43b9-d156-cc74e6944982"
      },
      "outputs": [
        {
          "name": "stdout",
          "output_type": "stream",
          "text": [
            "29248\n"
          ]
        }
      ],
      "source": [
        "vocab_size = words_cnt - rare_cnt + 2\n",
        "print(vocab_size)"
      ]
    },
    {
      "cell_type": "code",
      "execution_count": 10,
      "metadata": {
        "id": "jzgdIxPazfUf"
      },
      "outputs": [],
      "source": [
        "tokenizer = Tokenizer(vocab_size, oov_token='OOV')\n",
        "tokenizer.fit_on_texts(X_train)\n",
        "X_train = tokenizer.texts_to_sequences(X_train)\n",
        "X_test = tokenizer.texts_to_sequences(X_test)"
      ]
    },
    {
      "cell_type": "code",
      "execution_count": 11,
      "metadata": {
        "id": "PFJmjmIbzi8l"
      },
      "outputs": [],
      "source": [
        "y_train = np.array(y_train)\n",
        "y_test = np.array(y_test)"
      ]
    },
    {
      "cell_type": "code",
      "execution_count": 12,
      "metadata": {
        "colab": {
          "base_uri": "https://localhost:8080/"
        },
        "id": "JgB7qcdYzq_W",
        "outputId": "6d4eb7eb-fe6c-48d6-8c39-93190d7fb024"
      },
      "outputs": [
        {
          "name": "stdout",
          "output_type": "stream",
          "text": [
            "16701\n",
            "16701\n"
          ]
        },
        {
          "name": "stderr",
          "output_type": "stream",
          "text": [
            "/opt/anaconda3/envs/jupyter/lib/python3.8/site-packages/numpy/lib/function_base.py:5071: VisibleDeprecationWarning: Creating an ndarray from ragged nested sequences (which is a list-or-tuple of lists-or-tuples-or ndarrays with different lengths or shapes) is deprecated. If you meant to do this, you must specify 'dtype=object' when creating the ndarray.\n",
            "  arr = asarray(arr)\n"
          ]
        }
      ],
      "source": [
        "drop_train = [index for index, sentence in enumerate(X_train) if len(sentence) < 1]\n",
        "\n",
        "X_trian = np.delete(X_train, drop_train, axis=0)\n",
        "y_train = np.delete(y_train, drop_train, axis=0)\n",
        "\n",
        "print(len(X_train))\n",
        "print(len(y_train))"
      ]
    },
    {
      "cell_type": "code",
      "execution_count": 13,
      "metadata": {
        "colab": {
          "base_uri": "https://localhost:8080/"
        },
        "id": "gnhrxgD2zt2U",
        "outputId": "7b0b7609-43bf-47e7-e5de-617ef491716f"
      },
      "outputs": [
        {
          "name": "stdout",
          "output_type": "stream",
          "text": [
            "리뷰 최대 길이: 3992\n",
            "리뷰 평균 길이: 523.9144961379558\n"
          ]
        }
      ],
      "source": [
        "print('리뷰 최대 길이:', max(len(l) for l in X_train))\n",
        "print('리뷰 평균 길이:', sum(map(len, X_trian)) / len(X_train))"
      ]
    },
    {
      "cell_type": "code",
      "execution_count": 14,
      "metadata": {
        "colab": {
          "base_uri": "https://localhost:8080/",
          "height": 276
        },
        "id": "iN_NnvmpzyNx",
        "outputId": "388dcb47-544d-4678-83ea-477bcf8efd54"
      },
      "outputs": [
        {
          "data": {
            "image/png": "[encoded data removed]",
            "text/plain": [
              "<Figure size 432x288 with 1 Axes>"
            ]
          },
          "metadata": {
            "needs_background": "light"
          },
          "output_type": "display_data"
        }
      ],
      "source": [
        "import matplotlib.pyplot as plt\n",
        "plt.style.use('seaborn-white')\n",
        "\n",
        "plt.hist([len(s) for s in X_train], bins=50)\n",
        "plt.xlabel('Length of Samples')\n",
        "plt.ylabel('Number of Samples')\n",
        "plt.show()"
      ]
    },
    {
      "cell_type": "code",
      "execution_count": 15,
      "metadata": {
        "id": "SN6fEDhrz15r"
      },
      "outputs": [],
      "source": [
        "max_len = 1500"
      ]
    },
    {
      "cell_type": "code",
      "execution_count": 16,
      "metadata": {
        "id": "5Xqs_B3Qz5l6"
      },
      "outputs": [],
      "source": [
        "X_train = pad_sequences(X_train, maxlen=max_len)\n",
        "X_test = pad_sequences(X_test, maxlen=max_len)"
      ]
    },
    {
      "cell_type": "code",
      "execution_count": 17,
      "metadata": {
        "id": "e9hRmn4Jz-FB"
      },
      "outputs": [],
      "source": [
        "def model_builder(hp):\n",
        "  model = keras.Sequential()\n",
        "  model.add(Embedding(vocab_size, 100))\n",
        "  hp_units1 = hp.Int('units1', min_value = 32, max_value = 512, step = 32)\n",
        "  model.add(Bidirectional(GRU(units = hp_units1, return_sequences = True)))\n",
        "  hp_units2 = hp.Int('units2', min_value = 32, max_value = 512, step = 32)\n",
        "  model.add(Bidirectional(GRU(units = hp_units2, return_sequences = True)))\n",
        "  hp_units3 = hp.Int('units3', min_value = 32, max_value = 512, step = 32)\n",
        "  model.add(Bidirectional(GRU(units = hp_units3)))\n",
        "  model.add(Dense(1, activation='sigmoid'))\n",
        "\n",
        "  hp_learning_rate = hp.Choice('learning_rate', values = [1e-2, 1e-3, 1e-4]) \n",
        "  \n",
        "  model.compile(optimizer = keras.optimizers.Nadam(learning_rate = hp_learning_rate),\n",
        "                loss = keras.losses.BinaryCrossentropy(), \n",
        "                metrics = ['accuracy'])\n",
        "  \n",
        "  return model"
      ]
    },
    {
      "cell_type": "code",
      "execution_count": 18,
      "metadata": {
        "id": "UD3thS0N0wP_"
      },
      "outputs": [
        {
          "name": "stdout",
          "output_type": "stream",
          "text": [
            "INFO:tensorflow:Reloading Oracle from existing project my_dir/intro_to_kt/oracle.json\n"
          ]
        },
        {
          "name": "stderr",
          "output_type": "stream",
          "text": [
            "2022-07-31 22:21:35.077975: I tensorflow/core/platform/cpu_feature_guard.cc:193] This TensorFlow binary is optimized with oneAPI Deep Neural Network Library (oneDNN) to use the following CPU instructions in performance-critical operations:  AVX2 FMA\n",
            "To enable them in other operations, rebuild TensorFlow with the appropriate compiler flags.\n"
          ]
        }
      ],
      "source": [
        "tuner = kt.Hyperband(model_builder,\n",
        "                     objective = 'val_accuracy', \n",
        "                     max_epochs = 10,\n",
        "                     factor = 3,\n",
        "                     directory = 'my_dir',\n",
        "                     project_name = 'intro_to_kt')"
      ]
    },
    {
      "cell_type": "code",
      "execution_count": 19,
      "metadata": {
        "id": "VTbcCikz0ydR"
      },
      "outputs": [],
      "source": [
        "class ClearTrainingOutput(tf.keras.callbacks.Callback):\n",
        "  def on_train_end(*args, **kwargs):\n",
        "    IPython.display.clear_output(wait = True)"
      ]
    },
    {
      "cell_type": "code",
      "execution_count": 20,
      "metadata": {
        "colab": {
          "base_uri": "https://localhost:8080/"
        },
        "id": "VKsPxRpv1Fq0",
        "outputId": "ba85c686-fa6b-4db0-aeef-b855d3d54cb4"
      },
      "outputs": [
        {
          "name": "stdout",
          "output_type": "stream",
          "text": [
            "\n",
            "Search: Running Trial #1\n",
            "\n",
            "Value             |Best Value So Far |Hyperparameter\n",
            "256               |?                 |units1\n",
            "448               |?                 |units2\n",
            "160               |?                 |units3\n",
            "0.0001            |?                 |learning_rate\n",
            "2                 |?                 |tuner/epochs\n",
            "0                 |?                 |tuner/initial_epoch\n",
            "2                 |?                 |tuner/bracket\n",
            "0                 |?                 |tuner/round\n",
            "\n",
            "Epoch 1/2\n",
            " 17/522 [..............................] - ETA: 3:13:00 - loss: 0.6935 - accuracy: 0.4963"
          ]
        },
        {
          "ename": "KeyboardInterrupt",
          "evalue": "",
          "output_type": "error",
          "traceback": [
            "\u001b[0;31m---------------------------------------------------------------------------\u001b[0m",
            "\u001b[0;31mKeyboardInterrupt\u001b[0m                         Traceback (most recent call last)",
            "\u001b[1;32m/Users/jjwani/workspace/codestates/The_Relationship_between_news_and_stocks/Modeling.ipynb 셀 31\u001b[0m in \u001b[0;36m<cell line: 1>\u001b[0;34m()\u001b[0m\n\u001b[0;32m----> <a href='vscode-notebook-cell:/Users/jjwani/workspace/codestates/The_Relationship_between_news_and_stocks/Modeling.ipynb#ch0000030?line=0'>1</a>\u001b[0m tuner\u001b[39m.\u001b[39;49msearch(X_train, y_train, epochs \u001b[39m=\u001b[39;49m \u001b[39m10\u001b[39;49m, validation_data \u001b[39m=\u001b[39;49m (X_test, y_test), callbacks \u001b[39m=\u001b[39;49m [ClearTrainingOutput()])\n\u001b[1;32m      <a href='vscode-notebook-cell:/Users/jjwani/workspace/codestates/The_Relationship_between_news_and_stocks/Modeling.ipynb#ch0000030?line=2'>3</a>\u001b[0m best_hps \u001b[39m=\u001b[39m tuner\u001b[39m.\u001b[39mget_best_hyperparameters(num_trials \u001b[39m=\u001b[39m \u001b[39m1\u001b[39m)[\u001b[39m0\u001b[39m]\n\u001b[1;32m      <a href='vscode-notebook-cell:/Users/jjwani/workspace/codestates/The_Relationship_between_news_and_stocks/Modeling.ipynb#ch0000030?line=4'>5</a>\u001b[0m \u001b[39mprint\u001b[39m(\u001b[39mf\u001b[39m\u001b[39m\"\"\"\u001b[39m\n\u001b[1;32m      <a href='vscode-notebook-cell:/Users/jjwani/workspace/codestates/The_Relationship_between_news_and_stocks/Modeling.ipynb#ch0000030?line=5'>6</a>\u001b[0m \u001b[39m하이퍼 파라미터 검색이 완료되었습니다. \u001b[39m\n\u001b[1;32m      <a href='vscode-notebook-cell:/Users/jjwani/workspace/codestates/The_Relationship_between_news_and_stocks/Modeling.ipynb#ch0000030?line=6'>7</a>\u001b[0m \u001b[39m최적화된 첫 번째 GRU 노드 수는 \u001b[39m\u001b[39m{\u001b[39;00mbest_hps\u001b[39m.\u001b[39mget(\u001b[39m'\u001b[39m\u001b[39munits1\u001b[39m\u001b[39m'\u001b[39m)\u001b[39m}\u001b[39;00m\u001b[39m 입니다.\u001b[39m\n\u001b[0;32m   (...)\u001b[0m\n\u001b[1;32m     <a href='vscode-notebook-cell:/Users/jjwani/workspace/codestates/The_Relationship_between_news_and_stocks/Modeling.ipynb#ch0000030?line=9'>10</a>\u001b[0m \u001b[39m최적의 학습 속도는 \u001b[39m\u001b[39m{\u001b[39;00mbest_hps\u001b[39m.\u001b[39mget(\u001b[39m'\u001b[39m\u001b[39mlearning_rate\u001b[39m\u001b[39m'\u001b[39m)\u001b[39m}\u001b[39;00m\u001b[39m 입니다.\u001b[39m\n\u001b[1;32m     <a href='vscode-notebook-cell:/Users/jjwani/workspace/codestates/The_Relationship_between_news_and_stocks/Modeling.ipynb#ch0000030?line=10'>11</a>\u001b[0m \u001b[39m\"\"\"\u001b[39m)\n",
            "File \u001b[0;32m/opt/anaconda3/envs/jupyter/lib/python3.8/site-packages/keras_tuner/engine/base_tuner.py:183\u001b[0m, in \u001b[0;36mBaseTuner.search\u001b[0;34m(self, *fit_args, **fit_kwargs)\u001b[0m\n\u001b[1;32m    180\u001b[0m     \u001b[39mcontinue\u001b[39;00m\n\u001b[1;32m    182\u001b[0m \u001b[39mself\u001b[39m\u001b[39m.\u001b[39mon_trial_begin(trial)\n\u001b[0;32m--> 183\u001b[0m results \u001b[39m=\u001b[39m \u001b[39mself\u001b[39;49m\u001b[39m.\u001b[39;49mrun_trial(trial, \u001b[39m*\u001b[39;49mfit_args, \u001b[39m*\u001b[39;49m\u001b[39m*\u001b[39;49mfit_kwargs)\n\u001b[1;32m    184\u001b[0m \u001b[39m# `results` is None indicates user updated oracle in `run_trial()`.\u001b[39;00m\n\u001b[1;32m    185\u001b[0m \u001b[39mif\u001b[39;00m results \u001b[39mis\u001b[39;00m \u001b[39mNone\u001b[39;00m:\n",
            "File \u001b[0;32m/opt/anaconda3/envs/jupyter/lib/python3.8/site-packages/keras_tuner/tuners/hyperband.py:384\u001b[0m, in \u001b[0;36mHyperband.run_trial\u001b[0;34m(self, trial, *fit_args, **fit_kwargs)\u001b[0m\n\u001b[1;32m    382\u001b[0m     fit_kwargs[\u001b[39m\"\u001b[39m\u001b[39mepochs\u001b[39m\u001b[39m\"\u001b[39m] \u001b[39m=\u001b[39m hp\u001b[39m.\u001b[39mvalues[\u001b[39m\"\u001b[39m\u001b[39mtuner/epochs\u001b[39m\u001b[39m\"\u001b[39m]\n\u001b[1;32m    383\u001b[0m     fit_kwargs[\u001b[39m\"\u001b[39m\u001b[39minitial_epoch\u001b[39m\u001b[39m\"\u001b[39m] \u001b[39m=\u001b[39m hp\u001b[39m.\u001b[39mvalues[\u001b[39m\"\u001b[39m\u001b[39mtuner/initial_epoch\u001b[39m\u001b[39m\"\u001b[39m]\n\u001b[0;32m--> 384\u001b[0m \u001b[39mreturn\u001b[39;00m \u001b[39msuper\u001b[39;49m(Hyperband, \u001b[39mself\u001b[39;49m)\u001b[39m.\u001b[39;49mrun_trial(trial, \u001b[39m*\u001b[39;49mfit_args, \u001b[39m*\u001b[39;49m\u001b[39m*\u001b[39;49mfit_kwargs)\n",
            "File \u001b[0;32m/opt/anaconda3/envs/jupyter/lib/python3.8/site-packages/keras_tuner/engine/tuner.py:295\u001b[0m, in \u001b[0;36mTuner.run_trial\u001b[0;34m(self, trial, *args, **kwargs)\u001b[0m\n\u001b[1;32m    293\u001b[0m     callbacks\u001b[39m.\u001b[39mappend(model_checkpoint)\n\u001b[1;32m    294\u001b[0m     copied_kwargs[\u001b[39m\"\u001b[39m\u001b[39mcallbacks\u001b[39m\u001b[39m\"\u001b[39m] \u001b[39m=\u001b[39m callbacks\n\u001b[0;32m--> 295\u001b[0m     obj_value \u001b[39m=\u001b[39m \u001b[39mself\u001b[39;49m\u001b[39m.\u001b[39;49m_build_and_fit_model(trial, \u001b[39m*\u001b[39;49margs, \u001b[39m*\u001b[39;49m\u001b[39m*\u001b[39;49mcopied_kwargs)\n\u001b[1;32m    297\u001b[0m     histories\u001b[39m.\u001b[39mappend(obj_value)\n\u001b[1;32m    298\u001b[0m \u001b[39mreturn\u001b[39;00m histories\n",
            "File \u001b[0;32m/opt/anaconda3/envs/jupyter/lib/python3.8/site-packages/keras_tuner/engine/tuner.py:222\u001b[0m, in \u001b[0;36mTuner._build_and_fit_model\u001b[0;34m(self, trial, *args, **kwargs)\u001b[0m\n\u001b[1;32m    220\u001b[0m hp \u001b[39m=\u001b[39m trial\u001b[39m.\u001b[39mhyperparameters\n\u001b[1;32m    221\u001b[0m model \u001b[39m=\u001b[39m \u001b[39mself\u001b[39m\u001b[39m.\u001b[39m_try_build(hp)\n\u001b[0;32m--> 222\u001b[0m results \u001b[39m=\u001b[39m \u001b[39mself\u001b[39;49m\u001b[39m.\u001b[39;49mhypermodel\u001b[39m.\u001b[39;49mfit(hp, model, \u001b[39m*\u001b[39;49margs, \u001b[39m*\u001b[39;49m\u001b[39m*\u001b[39;49mkwargs)\n\u001b[1;32m    223\u001b[0m tuner_utils\u001b[39m.\u001b[39mvalidate_trial_results(\n\u001b[1;32m    224\u001b[0m     results, \u001b[39mself\u001b[39m\u001b[39m.\u001b[39moracle\u001b[39m.\u001b[39mobjective, \u001b[39m\"\u001b[39m\u001b[39mHyperModel.fit()\u001b[39m\u001b[39m\"\u001b[39m\n\u001b[1;32m    225\u001b[0m )\n\u001b[1;32m    226\u001b[0m \u001b[39mreturn\u001b[39;00m results\n",
            "File \u001b[0;32m/opt/anaconda3/envs/jupyter/lib/python3.8/site-packages/keras_tuner/engine/hypermodel.py:140\u001b[0m, in \u001b[0;36mHyperModel.fit\u001b[0;34m(self, hp, model, *args, **kwargs)\u001b[0m\n\u001b[1;32m    116\u001b[0m \u001b[39mdef\u001b[39;00m \u001b[39mfit\u001b[39m(\u001b[39mself\u001b[39m, hp, model, \u001b[39m*\u001b[39margs, \u001b[39m*\u001b[39m\u001b[39m*\u001b[39mkwargs):\n\u001b[1;32m    117\u001b[0m     \u001b[39m\"\"\"Train the model.\u001b[39;00m\n\u001b[1;32m    118\u001b[0m \n\u001b[1;32m    119\u001b[0m \u001b[39m    Args:\u001b[39;00m\n\u001b[0;32m   (...)\u001b[0m\n\u001b[1;32m    138\u001b[0m \u001b[39m        If return a float, it should be the `objective` value.\u001b[39;00m\n\u001b[1;32m    139\u001b[0m \u001b[39m    \"\"\"\u001b[39;00m\n\u001b[0;32m--> 140\u001b[0m     \u001b[39mreturn\u001b[39;00m model\u001b[39m.\u001b[39;49mfit(\u001b[39m*\u001b[39;49margs, \u001b[39m*\u001b[39;49m\u001b[39m*\u001b[39;49mkwargs)\n",
            "File \u001b[0;32m/opt/anaconda3/envs/jupyter/lib/python3.8/site-packages/keras/utils/traceback_utils.py:64\u001b[0m, in \u001b[0;36mfilter_traceback.<locals>.error_handler\u001b[0;34m(*args, **kwargs)\u001b[0m\n\u001b[1;32m     62\u001b[0m filtered_tb \u001b[39m=\u001b[39m \u001b[39mNone\u001b[39;00m\n\u001b[1;32m     63\u001b[0m \u001b[39mtry\u001b[39;00m:\n\u001b[0;32m---> 64\u001b[0m   \u001b[39mreturn\u001b[39;00m fn(\u001b[39m*\u001b[39;49margs, \u001b[39m*\u001b[39;49m\u001b[39m*\u001b[39;49mkwargs)\n\u001b[1;32m     65\u001b[0m \u001b[39mexcept\u001b[39;00m \u001b[39mException\u001b[39;00m \u001b[39mas\u001b[39;00m e:  \u001b[39m# pylint: disable=broad-except\u001b[39;00m\n\u001b[1;32m     66\u001b[0m   filtered_tb \u001b[39m=\u001b[39m _process_traceback_frames(e\u001b[39m.\u001b[39m__traceback__)\n",
            "File \u001b[0;32m/opt/anaconda3/envs/jupyter/lib/python3.8/site-packages/keras/engine/training.py:1409\u001b[0m, in \u001b[0;36mModel.fit\u001b[0;34m(self, x, y, batch_size, epochs, verbose, callbacks, validation_split, validation_data, shuffle, class_weight, sample_weight, initial_epoch, steps_per_epoch, validation_steps, validation_batch_size, validation_freq, max_queue_size, workers, use_multiprocessing)\u001b[0m\n\u001b[1;32m   1402\u001b[0m \u001b[39mwith\u001b[39;00m tf\u001b[39m.\u001b[39mprofiler\u001b[39m.\u001b[39mexperimental\u001b[39m.\u001b[39mTrace(\n\u001b[1;32m   1403\u001b[0m     \u001b[39m'\u001b[39m\u001b[39mtrain\u001b[39m\u001b[39m'\u001b[39m,\n\u001b[1;32m   1404\u001b[0m     epoch_num\u001b[39m=\u001b[39mepoch,\n\u001b[1;32m   1405\u001b[0m     step_num\u001b[39m=\u001b[39mstep,\n\u001b[1;32m   1406\u001b[0m     batch_size\u001b[39m=\u001b[39mbatch_size,\n\u001b[1;32m   1407\u001b[0m     _r\u001b[39m=\u001b[39m\u001b[39m1\u001b[39m):\n\u001b[1;32m   1408\u001b[0m   callbacks\u001b[39m.\u001b[39mon_train_batch_begin(step)\n\u001b[0;32m-> 1409\u001b[0m   tmp_logs \u001b[39m=\u001b[39m \u001b[39mself\u001b[39;49m\u001b[39m.\u001b[39;49mtrain_function(iterator)\n\u001b[1;32m   1410\u001b[0m   \u001b[39mif\u001b[39;00m data_handler\u001b[39m.\u001b[39mshould_sync:\n\u001b[1;32m   1411\u001b[0m     context\u001b[39m.\u001b[39masync_wait()\n",
            "File \u001b[0;32m/opt/anaconda3/envs/jupyter/lib/python3.8/site-packages/tensorflow/python/util/traceback_utils.py:150\u001b[0m, in \u001b[0;36mfilter_traceback.<locals>.error_handler\u001b[0;34m(*args, **kwargs)\u001b[0m\n\u001b[1;32m    148\u001b[0m filtered_tb \u001b[39m=\u001b[39m \u001b[39mNone\u001b[39;00m\n\u001b[1;32m    149\u001b[0m \u001b[39mtry\u001b[39;00m:\n\u001b[0;32m--> 150\u001b[0m   \u001b[39mreturn\u001b[39;00m fn(\u001b[39m*\u001b[39;49margs, \u001b[39m*\u001b[39;49m\u001b[39m*\u001b[39;49mkwargs)\n\u001b[1;32m    151\u001b[0m \u001b[39mexcept\u001b[39;00m \u001b[39mException\u001b[39;00m \u001b[39mas\u001b[39;00m e:\n\u001b[1;32m    152\u001b[0m   filtered_tb \u001b[39m=\u001b[39m _process_traceback_frames(e\u001b[39m.\u001b[39m__traceback__)\n",
            "File \u001b[0;32m/opt/anaconda3/envs/jupyter/lib/python3.8/site-packages/tensorflow/python/eager/def_function.py:915\u001b[0m, in \u001b[0;36mFunction.__call__\u001b[0;34m(self, *args, **kwds)\u001b[0m\n\u001b[1;32m    912\u001b[0m compiler \u001b[39m=\u001b[39m \u001b[39m\"\u001b[39m\u001b[39mxla\u001b[39m\u001b[39m\"\u001b[39m \u001b[39mif\u001b[39;00m \u001b[39mself\u001b[39m\u001b[39m.\u001b[39m_jit_compile \u001b[39melse\u001b[39;00m \u001b[39m\"\u001b[39m\u001b[39mnonXla\u001b[39m\u001b[39m\"\u001b[39m\n\u001b[1;32m    914\u001b[0m \u001b[39mwith\u001b[39;00m OptionalXlaContext(\u001b[39mself\u001b[39m\u001b[39m.\u001b[39m_jit_compile):\n\u001b[0;32m--> 915\u001b[0m   result \u001b[39m=\u001b[39m \u001b[39mself\u001b[39;49m\u001b[39m.\u001b[39;49m_call(\u001b[39m*\u001b[39;49margs, \u001b[39m*\u001b[39;49m\u001b[39m*\u001b[39;49mkwds)\n\u001b[1;32m    917\u001b[0m new_tracing_count \u001b[39m=\u001b[39m \u001b[39mself\u001b[39m\u001b[39m.\u001b[39mexperimental_get_tracing_count()\n\u001b[1;32m    918\u001b[0m without_tracing \u001b[39m=\u001b[39m (tracing_count \u001b[39m==\u001b[39m new_tracing_count)\n",
            "File \u001b[0;32m/opt/anaconda3/envs/jupyter/lib/python3.8/site-packages/tensorflow/python/eager/def_function.py:947\u001b[0m, in \u001b[0;36mFunction._call\u001b[0;34m(self, *args, **kwds)\u001b[0m\n\u001b[1;32m    944\u001b[0m   \u001b[39mself\u001b[39m\u001b[39m.\u001b[39m_lock\u001b[39m.\u001b[39mrelease()\n\u001b[1;32m    945\u001b[0m   \u001b[39m# In this case we have created variables on the first call, so we run the\u001b[39;00m\n\u001b[1;32m    946\u001b[0m   \u001b[39m# defunned version which is guaranteed to never create variables.\u001b[39;00m\n\u001b[0;32m--> 947\u001b[0m   \u001b[39mreturn\u001b[39;00m \u001b[39mself\u001b[39;49m\u001b[39m.\u001b[39;49m_stateless_fn(\u001b[39m*\u001b[39;49margs, \u001b[39m*\u001b[39;49m\u001b[39m*\u001b[39;49mkwds)  \u001b[39m# pylint: disable=not-callable\u001b[39;00m\n\u001b[1;32m    948\u001b[0m \u001b[39melif\u001b[39;00m \u001b[39mself\u001b[39m\u001b[39m.\u001b[39m_stateful_fn \u001b[39mis\u001b[39;00m \u001b[39mnot\u001b[39;00m \u001b[39mNone\u001b[39;00m:\n\u001b[1;32m    949\u001b[0m   \u001b[39m# Release the lock early so that multiple threads can perform the call\u001b[39;00m\n\u001b[1;32m    950\u001b[0m   \u001b[39m# in parallel.\u001b[39;00m\n\u001b[1;32m    951\u001b[0m   \u001b[39mself\u001b[39m\u001b[39m.\u001b[39m_lock\u001b[39m.\u001b[39mrelease()\n",
            "File \u001b[0;32m/opt/anaconda3/envs/jupyter/lib/python3.8/site-packages/tensorflow/python/eager/function.py:2453\u001b[0m, in \u001b[0;36mFunction.__call__\u001b[0;34m(self, *args, **kwargs)\u001b[0m\n\u001b[1;32m   2450\u001b[0m \u001b[39mwith\u001b[39;00m \u001b[39mself\u001b[39m\u001b[39m.\u001b[39m_lock:\n\u001b[1;32m   2451\u001b[0m   (graph_function,\n\u001b[1;32m   2452\u001b[0m    filtered_flat_args) \u001b[39m=\u001b[39m \u001b[39mself\u001b[39m\u001b[39m.\u001b[39m_maybe_define_function(args, kwargs)\n\u001b[0;32m-> 2453\u001b[0m \u001b[39mreturn\u001b[39;00m graph_function\u001b[39m.\u001b[39;49m_call_flat(\n\u001b[1;32m   2454\u001b[0m     filtered_flat_args, captured_inputs\u001b[39m=\u001b[39;49mgraph_function\u001b[39m.\u001b[39;49mcaptured_inputs)\n",
            "File \u001b[0;32m/opt/anaconda3/envs/jupyter/lib/python3.8/site-packages/tensorflow/python/eager/function.py:1860\u001b[0m, in \u001b[0;36mConcreteFunction._call_flat\u001b[0;34m(self, args, captured_inputs, cancellation_manager)\u001b[0m\n\u001b[1;32m   1856\u001b[0m possible_gradient_type \u001b[39m=\u001b[39m gradients_util\u001b[39m.\u001b[39mPossibleTapeGradientTypes(args)\n\u001b[1;32m   1857\u001b[0m \u001b[39mif\u001b[39;00m (possible_gradient_type \u001b[39m==\u001b[39m gradients_util\u001b[39m.\u001b[39mPOSSIBLE_GRADIENT_TYPES_NONE\n\u001b[1;32m   1858\u001b[0m     \u001b[39mand\u001b[39;00m executing_eagerly):\n\u001b[1;32m   1859\u001b[0m   \u001b[39m# No tape is watching; skip to running the function.\u001b[39;00m\n\u001b[0;32m-> 1860\u001b[0m   \u001b[39mreturn\u001b[39;00m \u001b[39mself\u001b[39m\u001b[39m.\u001b[39m_build_call_outputs(\u001b[39mself\u001b[39;49m\u001b[39m.\u001b[39;49m_inference_function\u001b[39m.\u001b[39;49mcall(\n\u001b[1;32m   1861\u001b[0m       ctx, args, cancellation_manager\u001b[39m=\u001b[39;49mcancellation_manager))\n\u001b[1;32m   1862\u001b[0m forward_backward \u001b[39m=\u001b[39m \u001b[39mself\u001b[39m\u001b[39m.\u001b[39m_select_forward_and_backward_functions(\n\u001b[1;32m   1863\u001b[0m     args,\n\u001b[1;32m   1864\u001b[0m     possible_gradient_type,\n\u001b[1;32m   1865\u001b[0m     executing_eagerly)\n\u001b[1;32m   1866\u001b[0m forward_function, args_with_tangents \u001b[39m=\u001b[39m forward_backward\u001b[39m.\u001b[39mforward()\n",
            "File \u001b[0;32m/opt/anaconda3/envs/jupyter/lib/python3.8/site-packages/tensorflow/python/eager/function.py:497\u001b[0m, in \u001b[0;36m_EagerDefinedFunction.call\u001b[0;34m(self, ctx, args, cancellation_manager)\u001b[0m\n\u001b[1;32m    495\u001b[0m \u001b[39mwith\u001b[39;00m _InterpolateFunctionError(\u001b[39mself\u001b[39m):\n\u001b[1;32m    496\u001b[0m   \u001b[39mif\u001b[39;00m cancellation_manager \u001b[39mis\u001b[39;00m \u001b[39mNone\u001b[39;00m:\n\u001b[0;32m--> 497\u001b[0m     outputs \u001b[39m=\u001b[39m execute\u001b[39m.\u001b[39;49mexecute(\n\u001b[1;32m    498\u001b[0m         \u001b[39mstr\u001b[39;49m(\u001b[39mself\u001b[39;49m\u001b[39m.\u001b[39;49msignature\u001b[39m.\u001b[39;49mname),\n\u001b[1;32m    499\u001b[0m         num_outputs\u001b[39m=\u001b[39;49m\u001b[39mself\u001b[39;49m\u001b[39m.\u001b[39;49m_num_outputs,\n\u001b[1;32m    500\u001b[0m         inputs\u001b[39m=\u001b[39;49margs,\n\u001b[1;32m    501\u001b[0m         attrs\u001b[39m=\u001b[39;49mattrs,\n\u001b[1;32m    502\u001b[0m         ctx\u001b[39m=\u001b[39;49mctx)\n\u001b[1;32m    503\u001b[0m   \u001b[39melse\u001b[39;00m:\n\u001b[1;32m    504\u001b[0m     outputs \u001b[39m=\u001b[39m execute\u001b[39m.\u001b[39mexecute_with_cancellation(\n\u001b[1;32m    505\u001b[0m         \u001b[39mstr\u001b[39m(\u001b[39mself\u001b[39m\u001b[39m.\u001b[39msignature\u001b[39m.\u001b[39mname),\n\u001b[1;32m    506\u001b[0m         num_outputs\u001b[39m=\u001b[39m\u001b[39mself\u001b[39m\u001b[39m.\u001b[39m_num_outputs,\n\u001b[0;32m   (...)\u001b[0m\n\u001b[1;32m    509\u001b[0m         ctx\u001b[39m=\u001b[39mctx,\n\u001b[1;32m    510\u001b[0m         cancellation_manager\u001b[39m=\u001b[39mcancellation_manager)\n",
            "File \u001b[0;32m/opt/anaconda3/envs/jupyter/lib/python3.8/site-packages/tensorflow/python/eager/execute.py:54\u001b[0m, in \u001b[0;36mquick_execute\u001b[0;34m(op_name, num_outputs, inputs, attrs, ctx, name)\u001b[0m\n\u001b[1;32m     52\u001b[0m \u001b[39mtry\u001b[39;00m:\n\u001b[1;32m     53\u001b[0m   ctx\u001b[39m.\u001b[39mensure_initialized()\n\u001b[0;32m---> 54\u001b[0m   tensors \u001b[39m=\u001b[39m pywrap_tfe\u001b[39m.\u001b[39;49mTFE_Py_Execute(ctx\u001b[39m.\u001b[39;49m_handle, device_name, op_name,\n\u001b[1;32m     55\u001b[0m                                       inputs, attrs, num_outputs)\n\u001b[1;32m     56\u001b[0m \u001b[39mexcept\u001b[39;00m core\u001b[39m.\u001b[39m_NotOkStatusException \u001b[39mas\u001b[39;00m e:\n\u001b[1;32m     57\u001b[0m   \u001b[39mif\u001b[39;00m name \u001b[39mis\u001b[39;00m \u001b[39mnot\u001b[39;00m \u001b[39mNone\u001b[39;00m:\n",
            "\u001b[0;31mKeyboardInterrupt\u001b[0m: "
          ]
        }
      ],
      "source": [
        "tuner.search(X_train, y_train, epochs = 10, validation_data = (X_test, y_test), callbacks = [ClearTrainingOutput()])\n",
        "\n",
        "best_hps = tuner.get_best_hyperparameters(num_trials = 1)[0]\n",
        "\n",
        "print(f\"\"\"\n",
        "하이퍼 파라미터 검색이 완료되었습니다. \n",
        "최적화된 첫 번째 GRU 노드 수는 {best_hps.get('units1')} 입니다.\n",
        "최적화된 두 번째 GRU 노드 수는 {best_hps.get('units2')} 입니다.\n",
        "최적화된 세 번째 GRU 노드 수는 {best_hps.get('units3')} 입니다.\n",
        "최적의 학습 속도는 {best_hps.get('learning_rate')} 입니다.\n",
        "\"\"\")"
      ]
    },
    {
      "cell_type": "code",
      "execution_count": null,
      "metadata": {},
      "outputs": [],
      "source": []
    }
  ],
  "metadata": {
    "colab": {
      "collapsed_sections": [],
      "name": "Untitled5.ipynb",
      "provenance": []
    },
    "kernelspec": {
      "display_name": "Python 3.8.13 ('jupyter')",
      "language": "python",
      "name": "python3"
    },
    "language_info": {
      "codemirror_mode": {
        "name": "ipython",
        "version": 3
      },
      "file_extension": ".py",
      "mimetype": "text/x-python",
      "name": "python",
      "nbconvert_exporter": "python",
      "pygments_lexer": "ipython3",
      "version": "3.8.13"
    },
    "vscode": {
      "interpreter": {
        "hash": "974742b9e3f84bbfc2ab858fce40e48c160687419b819993149cbe09d34e2b28"
      }
    }
  },
  "nbformat": 4,
  "nbformat_minor": 0
}
